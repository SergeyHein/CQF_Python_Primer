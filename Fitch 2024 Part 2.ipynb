{
 "cells": [
  {
   "cell_type": "markdown",
   "metadata": {},
   "source": [
    "\n",
    "# Flow control and loops"
   ]
  },
  {
   "cell_type": "markdown",
   "metadata": {},
   "source": [
    "We discussed whitespace earlier and that in all but a few special cases, it is ignored by Python. Python uses white space changes to indicate the start and end of flow control blocks, and so indentation is important. Here the for loop is the most important control structure.\n",
    "\n",
    "For example, when using <span style=\"color:blue\">if . . . elif . . . else </span> blocks, all of the control blocks must have the same indentation level and all of the statements inside the control blocks should have the same level of indentation; or Python will return an error.\n",
    "Returning to the previous indentation level instructs Python that the block is complete. Best\n",
    "practice is to only use spaces (and not tabs) and to use 4 spaces when starting a new level of indentation which represents a sensible balance between readability and wasted space. \n",
    "In Python, loops can be programmed in a number of different ways. The most common is the for loop,\n",
    "which is used together with iterable objects, such as lists (or built-in functions e.g. range()).\n",
    "\n",
    "## The mechanics and counting example"
   ]
  },
  {
   "cell_type": "markdown",
   "metadata": {},
   "source": [
    "<img src='./img/mechanics.png' width=650>"
   ]
  },
  {
   "cell_type": "markdown",
   "metadata": {},
   "source": [
    "The loop test is a scalar logical expression, i.e. single valued. It is possible to use arrays\n",
    "containing a single element, however attempting to use an array with more than 1 element results in an error - careful! <span style=\"color:blue\">elif</span> and <span style=\"color:blue\">else</span> are optional and can always be replicated using nested if statements; this comes at the expense of more complex logic and deeper nesting. The generic form of an <span style=\"color:blue\">if . . . elif . . . else</span> block is \n",
    "\n",
    "<span style=\"color:blue\">if</span> logical_1:\n",
    "\n",
    "    Code to run if logical_1 \n",
    "    \n",
    "<span style=\"color:blue\">elif</span> logical_2:\n",
    "\n",
    "    Code to run if logical_2 and not logical_1\n",
    "    \n",
    "<span style=\"color:blue\">elif</span> logical_3:\n",
    "\n",
    "    Code to run if logical_3 and not logical_1 or logical_2\n",
    "    \n",
    "...\n",
    "\n",
    "...\n",
    "\n",
    "<span style=\"color:blue\">else</span>:\n",
    "\n",
    "    Code to run if all previous logicals are false\n",
    " \n",
    "**One has to be careful with the above logic and syntax. Simpler forms of the above are more commonly used, i.e.**\n",
    "\n",
    "<span style=\"color:blue\">if</span> logical:\n",
    "\n",
    "    Code to run if logical true \n",
    "\n",
    "or\n",
    "    \n",
    "<span style=\"color:blue\">if</span> logical:\n",
    "\n",
    "    Code to run if logical true\n",
    "    \n",
    "<span style=\"color:blue\">else</span> logical:\n",
    "\n",
    "    Code to run if logical false \n",
    "\n",
    "Here are some introductory examples in the use of the above syntax:"
   ]
  },
  {
   "cell_type": "code",
   "execution_count": null,
   "metadata": {},
   "outputs": [],
   "source": [
    "x = int(input(\"Type in a value of x between 0 and 10 (incl.): \"))\n",
    "if x>5:\n",
    "    x += 1\n",
    "    print(x)\n",
    "else:\n",
    "    x-=1\n",
    "    print(x)\n"
   ]
  },
  {
   "cell_type": "markdown",
   "metadata": {},
   "source": [
    "and"
   ]
  },
  {
   "cell_type": "code",
   "execution_count": null,
   "metadata": {},
   "outputs": [],
   "source": [
    "x = int(input(\"Type in a value of x between 0 and 10 (incl.): \"))\n",
    "if x<5:\n",
    "    x += 1\n",
    "elif (x>5):\n",
    "    x-=1\n",
    "else:\n",
    "    x*=2\n",
    "print(x)"
   ]
  },
  {
   "cell_type": "markdown",
   "metadata": {},
   "source": [
    "**Quadratic equation formula**<br>\n",
    "Earlier we considered the formula for solving quadratic equations, with the restriction that $b^2$ - $4ac$ $>0$. Having defined the **if**, **elif** and **else** statements, we can consider all cases of $a, b, c$."
   ]
  },
  {
   "cell_type": "code",
   "execution_count": null,
   "metadata": {},
   "outputs": [],
   "source": [
    "from math import sqrt\n",
    "\n",
    "a=2; b=4; c=5\n",
    "discriminant = b**2-4*a*c\n",
    "\n",
    "if a == 0:\n",
    "    x=-c/(b)\n",
    "    print(\"a linear equation with solution x = \", x)\n",
    "    \n",
    "elif discriminant > 0:\n",
    "    x1=(-b+sqrt(discriminant))/(2*a)\n",
    "    x2=(-b-sqrt(discriminant))/(2*a)\n",
    "    print(\"x1= \", x1)\n",
    "    print(\"x2= \", x2)\n",
    "    \n",
    "elif discriminant == 0:\n",
    "    x=(-b)/(2*a)\n",
    "    print(\"A two-fold repeated root = \", x)\n",
    "    \n",
    "else: \n",
    "    real = (-b/2*a)\n",
    "    imag = sqrt(abs(discriminant))/(2*a)\n",
    "\n",
    "    print(\"x1= \", real, \" + \", imag, \"i\")\n",
    "    print(\"x2= \", real, \" - \", imag, \"i\") "
   ]
  },
  {
   "cell_type": "markdown",
   "metadata": {},
   "source": [
    "## While loop\n",
    "The while keyword allows to repeat an operation while a condition is true. "
   ]
  },
  {
   "cell_type": "markdown",
   "metadata": {},
   "source": [
    "<img src='./img/while loop.png' width=600>"
   ]
  },
  {
   "cell_type": "markdown",
   "metadata": {},
   "source": [
    "***\n",
    "***"
   ]
  },
  {
   "cell_type": "markdown",
   "metadata": {},
   "source": [
    "<img src='./img/while loop 2.png' width=650>"
   ]
  },
  {
   "cell_type": "markdown",
   "metadata": {},
   "source": [
    "***\n",
    "***"
   ]
  },
  {
   "cell_type": "markdown",
   "metadata": {},
   "source": [
    "<img src='./img/while loop 3.png' width=650>"
   ]
  },
  {
   "cell_type": "markdown",
   "metadata": {},
   "source": [
    "Here's the code"
   ]
  },
  {
   "cell_type": "code",
   "execution_count": null,
   "metadata": {
    "scrolled": true
   },
   "outputs": [],
   "source": [
    "number=1  # initialisation\n",
    "while(number<=10):  # reserved word with logical test\n",
    "    print(2*number) # ....\n",
    "    number+=1     #  ....\n",
    "print(\"Done\") # needs to leave loop so finish indent    "
   ]
  },
  {
   "cell_type": "markdown",
   "metadata": {},
   "source": [
    "Line 1: start of loop with initial value\n",
    "\n",
    "Line 2: reserved word **while** together that tells Python that there is a loop to follow. It must be directly followed by an expression that evaluates to a Boolean; i.e. a test condition number$\\leq$10 which is a Python expression that evaluates to a boolean, True or False. The test condition is followed by : This indents all subsequent code in the block with 4 spaces.\n",
    "\n",
    "Line 3 and 4: instructions to be executed\n",
    "\n",
    "Line 5: loop has been exited"
   ]
  },
  {
   "cell_type": "markdown",
   "metadata": {},
   "source": [
    "Suppose we'd like to know for how many years we have to keep 100 pounds in a savings account to reach 300 pounds simply due to annual payment of interest at a rate of 5%. Here is a program to compute that this will take 15 years:"
   ]
  },
  {
   "cell_type": "code",
   "execution_count": null,
   "metadata": {},
   "outputs": [],
   "source": [
    "mymoney = 100 # in GBP\n",
    "rate = 1.05 # 5% interest\n",
    "years = 0\n",
    "while mymoney < 300: # repeat until 300 pounds reached\n",
    "    mymoney = mymoney * rate\n",
    "    years+=1\n",
    "print('We need ', years , 'years to reach ', int(mymoney) , 'pounds .')"
   ]
  },
  {
   "cell_type": "markdown",
   "metadata": {},
   "source": [
    "## For loops \n",
    "<span style=\"color:blue\">for</span> loops begin with <span style=\"color:blue\">for</span> item in an iterable object, and the generic structure of a <span style=\"color:blue\">for</span> loop is\n",
    "\n",
    "<span style=\"color:blue\">for</span> item <span style=\"color:blue\">in</span> iterable:\n",
    "    \n",
    "    Code to run\n",
    "item is an element from iterable, and iterable can be anything that is iterable in Python. The most common are *range*, *list*, *tuple*, arrays or matrices. The <span style=\"color:blue\">for</span> loop will iterate across all items in iterable, beginning with item 0 and continuing until the final element.\n",
    "Here's the earlier <span style=\"color:blue\">while</span> loop written as a <span style=\"color:blue\">for</span> loop"
   ]
  },
  {
   "cell_type": "code",
   "execution_count": null,
   "metadata": {},
   "outputs": [],
   "source": [
    "n=10\n",
    "for n in range(1,n+1):\n",
    "    print(n, '\\t', n**2)\n",
    "print(\"Done\")"
   ]
  },
  {
   "cell_type": "code",
   "execution_count": null,
   "metadata": {},
   "outputs": [],
   "source": [
    "n=int(input('Enter an upper limit: '))\n",
    "sum=0\n",
    "for n in range(1,n+1):\n",
    "    sum+=n**2\n",
    "    print(n, sum)"
   ]
  },
  {
   "cell_type": "code",
   "execution_count": null,
   "metadata": {},
   "outputs": [],
   "source": [
    "for x in range(4): # by default range start at 0\n",
    "    print(x)"
   ]
  },
  {
   "cell_type": "code",
   "execution_count": null,
   "metadata": {},
   "outputs": [],
   "source": [
    "for x in range(-3,3):\n",
    "    print(x)"
   ]
  },
  {
   "cell_type": "code",
   "execution_count": null,
   "metadata": {},
   "outputs": [],
   "source": [
    "for word in [\"surgery\", \"medicine\", \"epidemiology\", \"psychiatry\"]:\n",
    "    print(word)"
   ]
  },
  {
   "cell_type": "markdown",
   "metadata": {},
   "source": [
    "The above code can be made more readable as follows:"
   ]
  },
  {
   "cell_type": "code",
   "execution_count": null,
   "metadata": {},
   "outputs": [],
   "source": [
    "clinical=[\"surgery\", \"medicine\", \"epidemiology\", \"psychiatry\"] # define the iterable\n",
    "for word in clinical:\n",
    "    print(word)"
   ]
  },
  {
   "cell_type": "markdown",
   "metadata": {},
   "source": [
    "We can also create a list using the following"
   ]
  },
  {
   "cell_type": "code",
   "execution_count": null,
   "metadata": {},
   "outputs": [],
   "source": [
    "y = [x**3-5*x**2-30*x+4 for x in range(10)]\n",
    "y, type(y)"
   ]
  },
  {
   "cell_type": "markdown",
   "metadata": {},
   "source": [
    "We can also have nested loops for more complicated decision making"
   ]
  },
  {
   "cell_type": "code",
   "execution_count": null,
   "metadata": {},
   "outputs": [],
   "source": [
    "number = 0\n",
    "for i in range(3):\n",
    "    for j in range(4):\n",
    "        number += j\n",
    "        print(number)"
   ]
  },
  {
   "cell_type": "markdown",
   "metadata": {
    "collapsed": true
   },
   "source": [
    "Now repeat the similar looking code, with removing the indentation level (once and then twice)"
   ]
  },
  {
   "cell_type": "code",
   "execution_count": null,
   "metadata": {},
   "outputs": [],
   "source": [
    "number = 0\n",
    "for i in range(3):\n",
    "    for j in range(3):\n",
    "        number += j\n",
    "    print(number) # one indent level removed"
   ]
  },
  {
   "cell_type": "code",
   "execution_count": null,
   "metadata": {},
   "outputs": [],
   "source": [
    "number = 0\n",
    "for i in range(3):\n",
    "    for j in range(3):\n",
    "        number +=j\n",
    "print(number) # second indent level removed (loop left)"
   ]
  },
  {
   "cell_type": "markdown",
   "metadata": {},
   "source": [
    "Flow control statements can also be nested in for loops"
   ]
  },
  {
   "cell_type": "code",
   "execution_count": null,
   "metadata": {},
   "outputs": [],
   "source": []
  },
  {
   "cell_type": "markdown",
   "metadata": {},
   "source": [
    "# User Defined Functions  $y=f(x)$ "
   ]
  },
  {
   "cell_type": "markdown",
   "metadata": {},
   "source": [
    "## Functions we have met and will meet\n",
    "<html>\n",
    "<body>\n",
    "\n",
    "<table style=\"width:90%\">\n",
    "  <tr>\n",
    "    <td>input</td>\n",
    "    <td>type</td>\n",
    "    <td>float</td>\n",
    "    <td>range</td>\n",
    "  </tr>\n",
    "  <tr>\n",
    "    <td>len</td>\n",
    "    <td>ord</td>\n",
    "    <td>int</td>\n",
    "    <td>str</td>\n",
    "  </tr>\n",
    "  <tr>\n",
    "    <td>open</td>\n",
    "    <td>chr</td>\n",
    "    <td>iter</td>\n",
    "    <td></td>\n",
    "  </tr>\n",
    "  <tr>\n",
    "  <td>print</td>\n",
    "    <td>bool</td>\n",
    "    <td>list</td>\n",
    "    <td></td>\n",
    "  </tr>\n",
    "</table>\n",
    "\n",
    "</body>\n",
    "</html>\n"
   ]
  },
  {
   "cell_type": "markdown",
   "metadata": {},
   "source": [
    "### Why write our own functions\n",
    "Easier to\n",
    "* read\n",
    "* write\n",
    "* test \n",
    "* fix \n",
    "* improve\n",
    "* add to \n",
    "* develop\n",
    "\n",
    "This is the essence of structured programming."
   ]
  },
  {
   "cell_type": "markdown",
   "metadata": {},
   "source": [
    "The basic rule of thumb of any programming language is “Don’t Repeat yourself”\n",
    "(https://en.wikipedia.org/wiki/Don%27t_repeat_yourself). \n",
    "\n",
    "If an action is to be carried out many times, define that operation once and then call that segment of code as many times as is needed. This is why functions are so important for efficient coding.\n"
   ]
  },
  {
   "cell_type": "markdown",
   "metadata": {},
   "source": [
    "So Python lets you write functions which are reusable pieces of code. For example, if we computed $4^3$ in any earlier notebook, but we would like to write a function that allows us to compute $x^n$ for any $x$ and $n$."
   ]
  },
  {
   "cell_type": "markdown",
   "metadata": {},
   "source": [
    "### User Defined Functions\n",
    "A natural way to solve large problems is to break them down into a series of sub-problems, which can be solved independently and then combined to arrive at a complete solution. \n",
    "In programming, this methodology reflects itself in the use of sub-programs, and in Python all sub-programs are called functions. A function is executed by being called from within another function or main body of the program.<br><br>We now write our own functions. A function in Python is defined using the keyword **def**, (short for define), followed by a function name, a signature within parentheses **()**, and a colon **:** Parameters are local variables; this means they will have no affect outside of the function.\n",
    "The following code, with one additional level of indentation, is the function body."
   ]
  },
  {
   "cell_type": "markdown",
   "metadata": {},
   "source": [
    "***"
   ]
  },
  {
   "cell_type": "code",
   "execution_count": null,
   "metadata": {
    "ExecuteTime": {
     "end_time": "2024-01-10T20:27:02.138321Z",
     "start_time": "2024-01-10T20:27:02.128348Z"
    }
   },
   "outputs": [],
   "source": [
    "def PrintThis(string): #basic syntax for function header\n",
    "    print(string) #function definition; note the indent caused by earlier :\n",
    "    return None\n",
    "    \n",
    "# main body - no indents here\n",
    "PrintThis(\"Zaihui, Riaz\") # function call with single argument"
   ]
  },
  {
   "cell_type": "code",
   "execution_count": null,
   "metadata": {
    "ExecuteTime": {
     "end_time": "2024-01-10T20:27:17.582631Z",
     "start_time": "2024-01-10T20:27:14.388104Z"
    }
   },
   "outputs": [],
   "source": [
    "message=input(\"Type something here \")\n",
    "PrintThis(message) # function call with single argument"
   ]
  },
  {
   "cell_type": "markdown",
   "metadata": {},
   "source": [
    "### Writing a simple maths function 1\n",
    "Squaring a number"
   ]
  },
  {
   "cell_type": "code",
   "execution_count": null,
   "metadata": {
    "ExecuteTime": {
     "end_time": "2024-01-10T20:27:25.636664Z",
     "start_time": "2024-01-10T20:27:25.616717Z"
    }
   },
   "outputs": [],
   "source": [
    "def square(x):\n",
    "    return x**2\n",
    "# Call the function\n",
    "x = 6\n",
    "y = square(x)\n",
    "print(x,y)"
   ]
  },
  {
   "cell_type": "markdown",
   "metadata": {},
   "source": [
    "As an exercise, modify the code above to read in from the keyboard and also tidy up the output."
   ]
  },
  {
   "cell_type": "markdown",
   "metadata": {},
   "source": [
    "### Writing a simple maths function 2"
   ]
  },
  {
   "cell_type": "markdown",
   "metadata": {},
   "source": [
    "Calculating a discriminant $b^2-4ac$"
   ]
  },
  {
   "cell_type": "code",
   "execution_count": null,
   "metadata": {
    "ExecuteTime": {
     "end_time": "2024-01-10T20:27:32.961316Z",
     "start_time": "2024-01-10T20:27:32.949348Z"
    }
   },
   "outputs": [],
   "source": [
    "def discriminant(a,b,c):\n",
    "    return b*b - 4*a*c\n",
    "discriminant(1,3,2)"
   ]
  },
  {
   "cell_type": "markdown",
   "metadata": {},
   "source": [
    "Unlike other languages such as C++, functions in python can return multiple values/variables"
   ]
  },
  {
   "cell_type": "markdown",
   "metadata": {},
   "source": [
    "### A factorial function"
   ]
  },
  {
   "cell_type": "code",
   "execution_count": null,
   "metadata": {
    "ExecuteTime": {
     "end_time": "2024-01-10T20:27:48.703002Z",
     "start_time": "2024-01-10T20:27:37.986376Z"
    }
   },
   "outputs": [],
   "source": [
    "def factorial(n):\n",
    "    factorial = 1 # base case\n",
    "    for n in range(1,n+1): # remember for loop requires an indent\n",
    "            factorial=factorial*n\n",
    "    return factorial\n",
    "\n",
    "n=int(input(\"enter an integer value: \"))\n",
    "\n",
    "print(\"factorial of \", n, \"is \",factorial(n))\n"
   ]
  },
  {
   "cell_type": "markdown",
   "metadata": {},
   "source": [
    "### An exponential function\n",
    "Here we create a user defined function for calculating an exponential $e^x$, using the factorial function above"
   ]
  },
  {
   "cell_type": "code",
   "execution_count": null,
   "metadata": {
    "ExecuteTime": {
     "end_time": "2024-01-10T20:32:35.194852Z",
     "start_time": "2024-01-10T20:32:35.188868Z"
    }
   },
   "outputs": [],
   "source": [
    "def exponential(x,n):\n",
    "    sum = 0\n",
    "    for i in range(0,n):\n",
    "        sum = sum + (x**i)/factorial(i)\n",
    "    return sum"
   ]
  },
  {
   "cell_type": "code",
   "execution_count": null,
   "metadata": {
    "ExecuteTime": {
     "end_time": "2024-01-10T20:32:42.908913Z",
     "start_time": "2024-01-10T20:32:38.404120Z"
    }
   },
   "outputs": [],
   "source": [
    "n=int(input((\"How many terms in the summation? n = \")))\n",
    "exponential(2,n)"
   ]
  },
  {
   "cell_type": "markdown",
   "metadata": {},
   "source": [
    "A major appeal of Python is the flexible way of calling functions. Here are a number of different ways of calling our exponential function, specifying the number of terms"
   ]
  },
  {
   "cell_type": "code",
   "execution_count": null,
   "metadata": {
    "ExecuteTime": {
     "end_time": "2024-01-10T20:33:04.752282Z",
     "start_time": "2024-01-10T20:33:04.744277Z"
    }
   },
   "outputs": [],
   "source": [
    "# print(exponential(2)) # Uses the default value 10\n",
    "print(exponential(2,100))\n",
    "print(exponential(2,n=100))\n",
    "print(exponential(n=100,x=2))"
   ]
  },
  {
   "cell_type": "code",
   "execution_count": null,
   "metadata": {
    "ExecuteTime": {
     "end_time": "2024-01-10T20:33:16.166057Z",
     "start_time": "2024-01-10T20:33:16.147108Z"
    }
   },
   "outputs": [],
   "source": [
    "def factorial(n):\n",
    "    num = 1\n",
    "    while n >= 1:\n",
    "        num = num * n\n",
    "        n = n - 1\n",
    "    return num\n",
    "\n",
    "answer=factorial(4)\n",
    "print(answer)"
   ]
  },
  {
   "cell_type": "markdown",
   "metadata": {},
   "source": [
    "## Working with lists\n",
    "In this example the contents of a list are summed using a function. So we consider function parameters that are more complex than the basic data examples above. It also shows how easy it is to pass data structures to functions as arguments. "
   ]
  },
  {
   "cell_type": "code",
   "execution_count": null,
   "metadata": {
    "ExecuteTime": {
     "end_time": "2024-01-10T20:34:19.788049Z",
     "start_time": "2024-01-10T20:34:19.772061Z"
    }
   },
   "outputs": [],
   "source": [
    "def list_sum(v):\n",
    "    total = 0\n",
    "    for i in range(0,len(list)):\n",
    "        total = total + v[i]\n",
    "    return total\n",
    "list = [3,6,9,12,15]\n",
    "print( list_sum(list) )"
   ]
  },
  {
   "cell_type": "markdown",
   "metadata": {},
   "source": [
    "In the next example a list will be returned from a function to wherever it is called"
   ]
  },
  {
   "cell_type": "code",
   "execution_count": null,
   "metadata": {
    "ExecuteTime": {
     "end_time": "2024-01-10T20:36:05.773045Z",
     "start_time": "2024-01-10T20:36:05.764070Z"
    }
   },
   "outputs": [],
   "source": [
    "def list_create():\n",
    "    x = [1,2,3]\n",
    "    return x\n",
    "x=list_create()\n",
    "print(x)"
   ]
  },
  {
   "cell_type": "markdown",
   "metadata": {},
   "source": [
    "Final example where a list is created using a mathematical formula. The substantive part of the function is line 2."
   ]
  },
  {
   "cell_type": "code",
   "execution_count": null,
   "metadata": {
    "ExecuteTime": {
     "end_time": "2024-01-10T20:36:19.082278Z",
     "start_time": "2024-01-10T20:36:19.065295Z"
    }
   },
   "outputs": [],
   "source": [
    "def maths_list():\n",
    "    cubic_function = [x**3-5*x**2-30*x+4 for x in range(10)]\n",
    "    return cubic_function\n",
    "\n",
    "new_list=maths_list()\n",
    "print(new_list)"
   ]
  },
  {
   "cell_type": "markdown",
   "metadata": {
    "ExecuteTime": {
     "end_time": "2022-09-24T14:46:16.309183Z",
     "start_time": "2022-09-24T14:46:16.293205Z"
    }
   },
   "source": [
    "Now use the earlier function to sum a list by passing the cubic as a function parameter.\n",
    "Later we will have functions calling other functions. "
   ]
  },
  {
   "cell_type": "code",
   "execution_count": null,
   "metadata": {
    "ExecuteTime": {
     "end_time": "2024-01-10T20:36:28.627422Z",
     "start_time": "2024-01-10T20:36:28.610467Z"
    }
   },
   "outputs": [],
   "source": [
    "list_sum(new_list)    "
   ]
  },
  {
   "cell_type": "markdown",
   "metadata": {},
   "source": [
    "Recall once a list is created we have at our disposal all the built-in functions and methods, discussed earlier. "
   ]
  },
  {
   "cell_type": "code",
   "execution_count": null,
   "metadata": {
    "ExecuteTime": {
     "end_time": "2024-01-10T20:36:56.561986Z",
     "start_time": "2024-01-10T20:36:56.546003Z"
    }
   },
   "outputs": [],
   "source": [
    "new_list.reverse()\n",
    "new_list"
   ]
  },
  {
   "cell_type": "markdown",
   "metadata": {},
   "source": [
    "**Note:** Note the syntax and structure to define a function:\n",
    "* the **def** keyword;\n",
    "* is followed by the function’s name, then\n",
    "* the arguments of the function are given between parentheses followed by a colon.\n",
    "* the function body;\n",
    "* and return object for optionally returning values.\n"
   ]
  },
  {
   "cell_type": "markdown",
   "metadata": {},
   "source": [
    "#### Approximating a Cumulative Distribution Function (CDF) \n",
    "A random variable $X\\sim{N(0,1)}$ has CDF \n",
    "$$ N(x)=\\mathbb{P}(X\\leq x)=\\frac{1}{\\sqrt{2\\pi}}\\int_{-\\infty}^{x} e^{-s^2} ds$$\n",
    "<img src='./img/cdf.png' width=650>"
   ]
  },
  {
   "cell_type": "markdown",
   "metadata": {},
   "source": [
    "We can approximate this improper integral by using the numerical scheme which is accurate to 6 decimal places\n",
    "$$\n",
    "N\\left(  x\\right)  =\\left\\{\n",
    "\\begin{array}\n",
    "[c]{c}%\n",
    "1-n\\left(  x\\right)  \\left(  {a_1k+a_2k^2+a_3k^3+a_4k^4+a_5k^5}\\right) \\\\\n",
    "1-N\\left(  -x\\right)\n",
    "\\end{array}\n",
    "\\right.  \\left.\n",
    "\\begin{array}\n",
    "[c]{c}%\n",
    "x\\geq0\\\\\n",
    "x<0\n",
    "\\end{array}\n",
    "\\right.\n",
    "$$\n"
   ]
  },
  {
   "cell_type": "markdown",
   "metadata": {},
   "source": [
    "where $k=\\frac{1}{1+0.2316419x}$, $a_1=0.319381530$, $a_2=−0.356563782$, $a_3=1.781477937$, $a_4=−1.821255978$, $a_5=1.330274429$ and $$ n(x)=\\frac{1}{\\sqrt{2\\pi}}e^{-x^2}$$"
   ]
  },
  {
   "cell_type": "code",
   "execution_count": null,
   "metadata": {
    "ExecuteTime": {
     "end_time": "2024-01-10T20:38:43.553844Z",
     "start_time": "2024-01-10T20:38:41.082010Z"
    }
   },
   "outputs": [],
   "source": [
    "import math as math\n",
    "def CDF(X):\n",
    "    (a1,a2,a3,a4,a5) = (0.319381530, -0.356563782, 1.781477937, -1.821255978, 1.330274429)\n",
    "    x=abs(X)\n",
    "    k=1/(1+0.2316419*x)\n",
    "    n=(1/math.sqrt(2*math.pi))*math.exp(-0.5*x**2)\n",
    "    N=1.0-n*(a1*k+a2*k**2+a3*pow(k,3)+a4*pow(k,4)+a5*pow(k,5))\n",
    "    if X<0:\n",
    "        N=1.0-N\n",
    "    return N\n",
    "\n",
    "X=float(input(\"enter value a real value\\n\"))\n",
    "print(\"The probability that X<\",X, \"is\",CDF(X))"
   ]
  },
  {
   "cell_type": "markdown",
   "metadata": {},
   "source": [
    "# NumPy"
   ]
  },
  {
   "cell_type": "markdown",
   "metadata": {},
   "source": [
    "## Introduction"
   ]
  },
  {
   "cell_type": "markdown",
   "metadata": {
    "collapsed": true
   },
   "source": [
    "In earlier sections we saw some of the useful general data structures provided by Python. Of the set used thus far, list objects (with mutable property) were seen to be the most beneficial. These are a flexible and robust data structure which come at a high memory cost and/or slower performance.  \n",
    "\n",
    "However, scientific, financial and healthcare applications generally have a need for high-performing operations on special data structures, namely the *array*. \n",
    "\n",
    "Arrays generally structure other fundamental objects of the same data type in rows and columns. \n",
    "\n",
    "NumPy allows fast manipulation of multidimensional arrays with the speed of C and developer friendliness of Python. Numpy handles arrays faster than standard python lists and tuples. Arrays can only store objects of the same type. Arrays take less memory space than lists. \n",
    "The numpy package is used in almost all numerical computation using Python. The package provides high-performance vector, matrix and higher-dimensional data structures for Python. Its flagship object is the powerful N – dimensional array, or ndarray. It is used extensively in mathematical modelling, statistics, numerical analysis and data analysis.\n",
    "\n",
    "An array can have any number of dimensions. A 1D array is a *vector*; a 2D array is a *matrix*. So the array is the central structure of NumPy. In computer programming, the **rank** of an array is another way of describing its dimension.\n",
    "\n",
    "A **universal function** (or ufunc) is a function that operates on ndarrays in an element-by-element fashion, supporting array broadcasting, type casting, and several other standard features. \n",
    "\n",
    "Using mathematical functions in the numpy library are often considered more robust than those in the math module. "
   ]
  },
  {
   "cell_type": "code",
   "execution_count": null,
   "metadata": {
    "ExecuteTime": {
     "end_time": "2024-01-11T17:09:25.621361Z",
     "start_time": "2024-01-11T17:09:25.606405Z"
    }
   },
   "outputs": [],
   "source": [
    "#from numpy import * # general way to import or\n",
    "import numpy as np # preferred way\n",
    "np.exp(16)"
   ]
  },
  {
   "cell_type": "markdown",
   "metadata": {},
   "source": [
    "or one or more of the following can be used"
   ]
  },
  {
   "cell_type": "code",
   "execution_count": null,
   "metadata": {
    "ExecuteTime": {
     "end_time": "2024-01-11T17:10:27.354488Z",
     "start_time": "2024-01-11T17:10:27.349474Z"
    }
   },
   "outputs": [],
   "source": [
    "import numpy.linalg as LA"
   ]
  },
  {
   "cell_type": "code",
   "execution_count": null,
   "metadata": {
    "ExecuteTime": {
     "end_time": "2024-01-11T17:11:11.517948Z",
     "start_time": "2024-01-11T17:11:11.510967Z"
    }
   },
   "outputs": [],
   "source": [
    "import numpy.random as npr"
   ]
  },
  {
   "cell_type": "markdown",
   "metadata": {},
   "source": [
    "An array can be created by manual input – this is of course only suitable for very small arrays; lists can also be used in their creation. Functions are available to create arrays of sequences, zeros and ones. And of course loops are another effective way of creating arrays. \n",
    "\n",
    "The most basic numpy data type. Matrices are specialised 2-D arrays.Types int, float, complex forms available. For example\n",
    "$$A=\\left( \n",
    "\\begin{array}{ccc}\n",
    "a & b & c \\\\ \n",
    "d & e & f \\\\ \n",
    "g & h & i%\n",
    "\\end{array}%\n",
    "\\right)$$\n"
   ]
  },
  {
   "cell_type": "markdown",
   "metadata": {},
   "source": [
    "## Creating an array with lists"
   ]
  },
  {
   "cell_type": "markdown",
   "metadata": {},
   "source": [
    "Arrays can be constructed with the built-in data structures studied earlier. Lists are particularly suited to doing this, as a simple list can already be considered a one-dimensional array."
   ]
  },
  {
   "cell_type": "code",
   "execution_count": null,
   "metadata": {
    "ExecuteTime": {
     "end_time": "2024-01-11T17:20:12.374398Z",
     "start_time": "2024-01-11T17:20:12.359439Z"
    }
   },
   "outputs": [],
   "source": [
    "data1 =[6 , 7.5 , 8 , 0 , -1]\n",
    "arr1=np.array(data1)\n",
    "print(arr1)\n",
    "print(type(arr1)) # let's do a quick type check\n",
    "type(data1)"
   ]
  },
  {
   "cell_type": "markdown",
   "metadata": {},
   "source": [
    "The elements of an array have to be of the same type. In the array initialisation above, data1[1]=7.5, i.e. a float, while the other elements are integer type. The result is an array of floats. Some more examples"
   ]
  },
  {
   "cell_type": "code",
   "execution_count": null,
   "metadata": {
    "ExecuteTime": {
     "end_time": "2024-01-11T17:20:29.658472Z",
     "start_time": "2024-01-11T17:20:29.649497Z"
    }
   },
   "outputs": [],
   "source": [
    "a=np.array([[1,2],[3,4]])\n",
    "b=np.array([5,6])\n",
    "c=np.array([3,2])"
   ]
  },
  {
   "cell_type": "code",
   "execution_count": null,
   "metadata": {
    "ExecuteTime": {
     "end_time": "2024-01-11T17:20:34.531253Z",
     "start_time": "2024-01-11T17:20:34.520287Z"
    }
   },
   "outputs": [],
   "source": [
    "print(a)\n",
    "print(a[0,0], a[1,1])\n",
    "print(b) # gives in row vector form"
   ]
  },
  {
   "cell_type": "code",
   "execution_count": null,
   "metadata": {
    "ExecuteTime": {
     "end_time": "2024-01-11T17:20:38.645273Z",
     "start_time": "2024-01-11T17:20:38.639288Z"
    }
   },
   "outputs": [],
   "source": [
    "d=np.array([5,6,7,8,9,10,11,12,13,14])\n",
    "for i in range(0,len(d)):\n",
    "    print(d[i])"
   ]
  },
  {
   "cell_type": "markdown",
   "metadata": {},
   "source": [
    "## Simple operations on arrays\n",
    "Using the earlier definitions of $a,b,c$ perform some simple calculations involving matrices and vectors.\n",
    "$$x=ab$$ \n",
    "$$y=b{\\cdot}c$$\n"
   ]
  },
  {
   "cell_type": "code",
   "execution_count": null,
   "metadata": {
    "ExecuteTime": {
     "end_time": "2024-01-11T17:20:42.877246Z",
     "start_time": "2024-01-11T17:20:42.864284Z"
    }
   },
   "outputs": [],
   "source": [
    "x=np.dot(a,b); print(x)"
   ]
  },
  {
   "cell_type": "markdown",
   "metadata": {},
   "source": [
    "Try x=dot(b,a)"
   ]
  },
  {
   "cell_type": "code",
   "execution_count": null,
   "metadata": {
    "ExecuteTime": {
     "end_time": "2024-01-11T17:21:42.908878Z",
     "start_time": "2024-01-11T17:21:42.894920Z"
    }
   },
   "outputs": [],
   "source": [
    "y=np.dot(b,c); print(y)"
   ]
  },
  {
   "cell_type": "code",
   "execution_count": null,
   "metadata": {
    "ExecuteTime": {
     "end_time": "2024-01-11T17:21:44.685328Z",
     "start_time": "2024-01-11T17:21:44.678375Z"
    }
   },
   "outputs": [],
   "source": [
    "print(np.dot(x,y,c)) # what is happening here?"
   ]
  },
  {
   "cell_type": "markdown",
   "metadata": {},
   "source": [
    "The dot function performs matrix multiplication, scalar multiplication and dot product between vectors. "
   ]
  },
  {
   "cell_type": "code",
   "execution_count": null,
   "metadata": {
    "ExecuteTime": {
     "end_time": "2024-01-11T17:21:49.810743Z",
     "start_time": "2024-01-11T17:21:49.801772Z"
    }
   },
   "outputs": [],
   "source": [
    "print(a/a) # dividing a matrix by itself  - not very interesting!"
   ]
  },
  {
   "cell_type": "code",
   "execution_count": null,
   "metadata": {
    "ExecuteTime": {
     "end_time": "2024-01-11T17:21:50.671626Z",
     "start_time": "2024-01-11T17:21:50.650267Z"
    }
   },
   "outputs": [],
   "source": [
    "\n",
    "A=np.array([1,-1,2,0])\n",
    "B=np.array([[1,2],[1,-1]])\n",
    "C=np.array([[1,2],[1,-1],[-1,1], [0,3]])\n",
    "D=np.array([[1,-1,0,1],[2,1,-1,2]])\n",
    "print(np.dot(A,C), \"\\n\")\n",
    "print(np.dot(B,D), \"\\n\")\n",
    "print(np.dot(C,B), \"\\n\")\n",
    "print(np.dot(C,D), \"\\n\")\n",
    "print(np.dot(D,C), \"\\n\")"
   ]
  },
  {
   "cell_type": "markdown",
   "metadata": {},
   "source": [
    "## Populating arrays with elements\n",
    "It is always sensible to initialise a matrix when defining it. There are a number of ways to achieve this"
   ]
  },
  {
   "cell_type": "code",
   "execution_count": null,
   "metadata": {
    "ExecuteTime": {
     "end_time": "2024-01-11T17:21:56.731243Z",
     "start_time": "2024-01-11T17:21:56.717279Z"
    }
   },
   "outputs": [],
   "source": [
    "A=np.zeros(3) # 1 argument\n",
    "print(A)"
   ]
  },
  {
   "cell_type": "code",
   "execution_count": null,
   "metadata": {
    "ExecuteTime": {
     "end_time": "2024-01-11T17:21:57.552219Z",
     "start_time": "2024-01-11T17:21:57.542274Z"
    }
   },
   "outputs": [],
   "source": [
    "B=np.zeros((2,2))\n",
    "print(B)"
   ]
  },
  {
   "cell_type": "code",
   "execution_count": null,
   "metadata": {
    "ExecuteTime": {
     "end_time": "2024-01-11T17:23:02.152932Z",
     "start_time": "2024-01-11T17:23:02.144926Z"
    }
   },
   "outputs": [],
   "source": [
    "B=np.zeros((2,2), complex) # 2 argument\n",
    "print(B)"
   ]
  },
  {
   "cell_type": "code",
   "execution_count": null,
   "metadata": {
    "ExecuteTime": {
     "end_time": "2023-09-27T18:50:13.504926Z",
     "start_time": "2023-09-27T18:50:13.491960Z"
    }
   },
   "outputs": [],
   "source": [
    "C=np.ones((2,3)) ; print(C) # change to complex for second argument"
   ]
  },
  {
   "cell_type": "code",
   "execution_count": null,
   "metadata": {
    "ExecuteTime": {
     "end_time": "2023-09-27T18:50:17.633525Z",
     "start_time": "2023-09-27T18:50:17.620588Z"
    }
   },
   "outputs": [],
   "source": [
    "D=np.ones(2) ; print(D)"
   ]
  },
  {
   "cell_type": "code",
   "execution_count": null,
   "metadata": {
    "ExecuteTime": {
     "end_time": "2024-01-11T17:26:07.482260Z",
     "start_time": "2024-01-11T17:26:07.475279Z"
    }
   },
   "outputs": [],
   "source": [
    "np.ones(4, complex) # the command ones(4) will produce the same output"
   ]
  },
  {
   "cell_type": "markdown",
   "metadata": {},
   "source": [
    "There are other ways of filling an array"
   ]
  },
  {
   "cell_type": "code",
   "execution_count": null,
   "metadata": {
    "ExecuteTime": {
     "end_time": "2024-01-11T17:26:08.934239Z",
     "start_time": "2024-01-11T17:26:08.914293Z"
    }
   },
   "outputs": [],
   "source": [
    "k=np.arange(15) # create an array called k and initialise using arange function\n",
    "k"
   ]
  },
  {
   "cell_type": "code",
   "execution_count": null,
   "metadata": {
    "ExecuteTime": {
     "end_time": "2024-01-11T17:26:09.841192Z",
     "start_time": "2024-01-11T17:26:09.831227Z"
    }
   },
   "outputs": [],
   "source": [
    "k1=np.arange(15,20,1) \n",
    "k1"
   ]
  },
  {
   "cell_type": "markdown",
   "metadata": {},
   "source": [
    "The earlier sort() function can be used as `np.sort(array)`"
   ]
  },
  {
   "cell_type": "code",
   "execution_count": null,
   "metadata": {
    "ExecuteTime": {
     "end_time": "2024-01-11T17:26:11.978811Z",
     "start_time": "2024-01-11T17:26:11.959861Z"
    }
   },
   "outputs": [],
   "source": [
    "k2=np.sort(data1)\n",
    "print(k2)"
   ]
  },
  {
   "cell_type": "code",
   "execution_count": null,
   "metadata": {
    "ExecuteTime": {
     "end_time": "2024-01-11T17:27:55.349330Z",
     "start_time": "2024-01-11T17:27:55.342349Z"
    }
   },
   "outputs": [],
   "source": [
    "new_array=np.array([[2,1,3],[6,9,5]])\n",
    "np.sort(new_array)"
   ]
  },
  {
   "cell_type": "markdown",
   "metadata": {},
   "source": [
    "For for more information on sorting see https://numpy.org/doc/stable/reference/generated/numpy.sort.html#"
   ]
  },
  {
   "cell_type": "markdown",
   "metadata": {},
   "source": [
    "Let's convert the array above to say one that is 5x3 using the method reshape which takes as input, the format"
   ]
  },
  {
   "cell_type": "code",
   "execution_count": null,
   "metadata": {
    "ExecuteTime": {
     "end_time": "2024-01-11T17:28:06.010147Z",
     "start_time": "2024-01-11T17:28:05.991203Z"
    }
   },
   "outputs": [],
   "source": [
    "k=np.arange(15).reshape(3,5)\n",
    "k"
   ]
  },
  {
   "cell_type": "markdown",
   "metadata": {},
   "source": [
    "Populating an array algebraically"
   ]
  },
  {
   "cell_type": "code",
   "execution_count": null,
   "metadata": {
    "ExecuteTime": {
     "end_time": "2024-01-11T17:28:18.749879Z",
     "start_time": "2024-01-11T17:28:18.742870Z"
    }
   },
   "outputs": [],
   "source": [
    "arr2=np.empty((10,4))\n",
    "for i in range(10):\n",
    "    arr2[i]= i-1\n",
    "print(arr2)"
   ]
  },
  {
   "cell_type": "code",
   "execution_count": null,
   "metadata": {
    "ExecuteTime": {
     "end_time": "2024-01-11T17:28:24.067376Z",
     "start_time": "2024-01-11T17:28:24.054381Z"
    }
   },
   "outputs": [],
   "source": [
    "arr3=np.empty((2,3)) # what does the empty function do?\n",
    "arr3"
   ]
  },
  {
   "cell_type": "code",
   "execution_count": null,
   "metadata": {
    "ExecuteTime": {
     "end_time": "2024-01-11T17:28:52.669302Z",
     "start_time": "2024-01-11T17:28:52.658302Z"
    }
   },
   "outputs": [],
   "source": [
    "# Create a 3x3 identity matrix\n",
    "np.eye(3)"
   ]
  },
  {
   "cell_type": "markdown",
   "metadata": {},
   "source": [
    "Always good to initialise an array with somehting you know to avoid Python doing it in some unstructured way"
   ]
  },
  {
   "cell_type": "markdown",
   "metadata": {},
   "source": [
    "A universal function (ufunc) performs element-wise operations on the data in the arrays:\n",
    "* unary - sqrt(arr), exp(arr), floor(arr)\n",
    "* binary - maximum(arr1,arr2) , add(arr1,arr2), multiply(arr1,arr2)\n"
   ]
  },
  {
   "cell_type": "markdown",
   "metadata": {},
   "source": [
    "To **transpose** a matrix use .T"
   ]
  },
  {
   "cell_type": "code",
   "execution_count": null,
   "metadata": {
    "ExecuteTime": {
     "end_time": "2024-01-11T17:29:26.547186Z",
     "start_time": "2024-01-11T17:29:26.534220Z"
    }
   },
   "outputs": [],
   "source": [
    "import numpy as np\n",
    "A=np.array([[1,2],[3,4]])\n",
    "print(\"A=\\n\",A)\n",
    "print(\"The transpose of A = \\n\", A.T)"
   ]
  },
  {
   "cell_type": "markdown",
   "metadata": {},
   "source": [
    "For **matrix powers**, i.e. $A^n$ first import the **linalg library** and then use the function **matrix_power** linalg.matrix_power(A,n)"
   ]
  },
  {
   "cell_type": "code",
   "execution_count": null,
   "metadata": {
    "ExecuteTime": {
     "end_time": "2024-01-11T21:10:10.835997Z",
     "start_time": "2024-01-11T21:10:10.827994Z"
    }
   },
   "outputs": [],
   "source": [
    "from numpy import linalg as LA\n",
    "LA.matrix_power(A,2)"
   ]
  },
  {
   "cell_type": "markdown",
   "metadata": {},
   "source": [
    "## Solving linear systems\n",
    "We continue to make use of the linalg library to solve linear equations\n",
    "\\begin{eqnarray}\n",
    "ax_1+bx_2+cx_3 &=&p  \\ \\\\\n",
    "dx_1+ex_2+fx_3 &=&q  \\notag \\\\\n",
    "gx_1+hx_2+ix_3 &=&r  \\notag\n",
    "\\end{eqnarray}\n",
    "for the unknown vector **x**=$(x_1,x_2,z_3)$. Use the function linalg.solve to solve the system. Here is a $3\\times3$ example: Solve the matrix inversion problem $A$**x**=**b** where \n",
    "\n",
    "\n",
    "$$A=\\left( \n",
    "\\begin{array}{ccc}\n",
    "2 & 1 & -2 \\\\ \n",
    "3 & 2 & 2 \\\\ \n",
    "5 & 4 & 3%\n",
    "\\end{array}%\n",
    "\\right) ;\\ \\mathbf{b=}\\left( \n",
    "\\begin{array}{c}\n",
    "10 \\\\ \n",
    "1 \\\\ \n",
    "4%\n",
    "\\end{array}%\n",
    "\\right)$$ \n"
   ]
  },
  {
   "cell_type": "code",
   "execution_count": null,
   "metadata": {
    "ExecuteTime": {
     "end_time": "2023-09-27T20:33:49.325977Z",
     "start_time": "2023-09-27T20:33:49.300047Z"
    }
   },
   "outputs": [],
   "source": [
    "A=([2,1,-2], [3,2,2], [5,4,3]) # define A\n",
    "b=[10,1,4] #define b\n",
    "solution=LA.solve(A,b) # solve function used \n",
    "solution"
   ]
  },
  {
   "cell_type": "code",
   "execution_count": null,
   "metadata": {
    "ExecuteTime": {
     "end_time": "2024-01-11T21:22:34.483224Z",
     "start_time": "2024-01-11T21:22:34.454273Z"
    }
   },
   "outputs": [],
   "source": [
    "A=([1,2,-3], [2,-1,4], [4,3,-2]) # define A\n",
    "b=[6,2,14] #define b\n",
    "solution=LA.solve(A,b) # solve function used \n",
    "solution"
   ]
  },
  {
   "cell_type": "markdown",
   "metadata": {},
   "source": [
    "As an exercise try "
   ]
  },
  {
   "cell_type": "code",
   "execution_count": null,
   "metadata": {
    "ExecuteTime": {
     "end_time": "2024-01-11T21:27:49.329060Z",
     "start_time": "2024-01-11T21:27:49.312078Z"
    }
   },
   "outputs": [],
   "source": [
    "A=([1,2,-3], [3,-1,2], [5,3,-4]) # define A\n",
    "b=[-1,7,2] #define b\n",
    "solution=LA.solve(A,b) # solve function used \n",
    "solution"
   ]
  },
  {
   "cell_type": "markdown",
   "metadata": {},
   "source": [
    "## Eigenvalues\n",
    "The matrix\n",
    "$$\n",
    "\\mathbf{A=}\\left( \n",
    "\\begin{array}{ccc}\n",
    "3 & 3 & 3 \\\\ \n",
    "3 & -1 & 1 \\\\ \n",
    "3 & 1 & -1%\n",
    "\\end{array}%\n",
    "\\right)$$\n",
    "has eigenvalues, i.e. the roots of this equation, are $\\lambda _{1}=-3,$ $%\n",
    "\\lambda _{2}=-2$ and $\\lambda _{3}=6$\n",
    "with normalised eigenvectors\n",
    "$$\n",
    "{\\mathbf{v}}_{1}=\\frac{1}{\\sqrt{3}}%\n",
    "\\begin{pmatrix}\n",
    "1 \\\\ \n",
    "-1 \\\\ \n",
    "-1%\n",
    "\\end{pmatrix}%\n",
    ",\\ \\ \\ {\\mathbf{v}}_{2}=\\frac{1}{\\sqrt{2}}%\n",
    "\\begin{pmatrix}\n",
    "0 \\\\ \n",
    "1 \\\\ \n",
    "-1%\n",
    "\\end{pmatrix}%\n",
    ",\\ \\ \\ {\\mathbf{v}}_{3}=\\frac{1}{\\sqrt{6}}%\n",
    "\\begin{pmatrix}\n",
    "2 \\\\ \n",
    "1 \\\\ \n",
    "1%\n",
    "\\end{pmatrix}%\n",
    "$$\n",
    "\n",
    "To compute this in Python\n",
    "\n"
   ]
  },
  {
   "cell_type": "code",
   "execution_count": null,
   "metadata": {
    "ExecuteTime": {
     "end_time": "2024-01-11T21:39:57.896591Z",
     "start_time": "2024-01-11T21:39:57.871628Z"
    }
   },
   "outputs": [],
   "source": [
    "A=([3,3,3], [3,-1,1], [3,1,-1]) # define \n",
    "LA.eig(A) # calculates the e-values and e-vectors"
   ]
  },
  {
   "cell_type": "code",
   "execution_count": null,
   "metadata": {
    "ExecuteTime": {
     "end_time": "2024-01-11T21:39:59.714526Z",
     "start_time": "2024-01-11T21:39:59.697569Z"
    }
   },
   "outputs": [],
   "source": [
    "LA.det(A) # determinant of A"
   ]
  },
  {
   "cell_type": "code",
   "execution_count": null,
   "metadata": {
    "ExecuteTime": {
     "end_time": "2024-01-11T21:40:00.761920Z",
     "start_time": "2024-01-11T21:40:00.751947Z"
    }
   },
   "outputs": [],
   "source": [
    "LA.inv(A) # inverse of A"
   ]
  },
  {
   "cell_type": "markdown",
   "metadata": {},
   "source": [
    "Compute the eigenvalues (and normalised eigenvectors) of the matrix\n",
    "$$\n",
    "\\mathbf{A=}\\left( \n",
    "\\begin{array}{ccc}\n",
    "2 & 0 & 1 \\\\ \n",
    "-1 & 2 & 3 \\\\ \n",
    "1 & 0 & 2%\n",
    "\\end{array}%\n",
    "\\right)$$"
   ]
  },
  {
   "cell_type": "code",
   "execution_count": null,
   "metadata": {
    "ExecuteTime": {
     "end_time": "2023-09-27T20:34:26.051266Z",
     "start_time": "2023-09-27T20:34:26.032314Z"
    }
   },
   "outputs": [],
   "source": [
    "A=([3,2,-2], [2,0,1], [-1,-3,5]) # define \n",
    "LA.eig(A) # calculates the e-values and e-vectors"
   ]
  },
  {
   "cell_type": "markdown",
   "metadata": {},
   "source": [
    "## Filling arrays with random numbers\n",
    "The function **rand** generates uniformly distributed random numbers over 0 and 1, i.e. $U(0,1)$"
   ]
  },
  {
   "cell_type": "code",
   "execution_count": null,
   "metadata": {
    "ExecuteTime": {
     "end_time": "2024-01-11T21:40:14.612895Z",
     "start_time": "2024-01-11T21:40:14.606939Z"
    }
   },
   "outputs": [],
   "source": [
    "E=np.random.rand(2,4) # Numpy also has random number generator functions!"
   ]
  },
  {
   "cell_type": "code",
   "execution_count": null,
   "metadata": {
    "ExecuteTime": {
     "end_time": "2024-01-11T21:40:16.288884Z",
     "start_time": "2024-01-11T21:40:16.282930Z"
    }
   },
   "outputs": [],
   "source": [
    "print(E)"
   ]
  },
  {
   "cell_type": "markdown",
   "metadata": {},
   "source": [
    "**randn** gives normal (Gaussian) distribution $N(0,1)$"
   ]
  },
  {
   "cell_type": "code",
   "execution_count": null,
   "metadata": {
    "ExecuteTime": {
     "end_time": "2024-01-11T21:42:56.326993Z",
     "start_time": "2024-01-11T21:42:56.307034Z"
    }
   },
   "outputs": [],
   "source": [
    "F=np.random.randn(2,2) ; print(F)"
   ]
  },
  {
   "cell_type": "markdown",
   "metadata": {},
   "source": [
    "Other distributions are also available.\n",
    "**Note** as with C++, indexing starts at zero. "
   ]
  },
  {
   "cell_type": "markdown",
   "metadata": {},
   "source": [
    "# matplotlib - Two dimensional plots"
   ]
  },
  {
   "cell_type": "markdown",
   "metadata": {},
   "source": [
    "Matplotlib (which is the whole package) is an advanced plotting library capable of high-quality graphics. It was the first data visualisation library - other Python libraries build on it. Matplotlib contains both high level functions which produce specific types of figures, for example a line plot or a bar chart, as well as a low level API for creating highly customized charts. The output is an image - no interaction. This section is a very brief introduction to a vast topic. Graphical outputs are very important in numerical computing when displaying results. The advantages of using this library include:\n",
    "\n",
    "* As with Python easy to get started\n",
    "* Support for latex formatted labels and texts\n",
    "* Superior levels of control of all aspects of high quality figures in many formats (e.g. PNG, PDF, SVG, EPS, PGF)\n",
    "* Well integrated with pandas and numpy\n",
    "\n",
    "Detailed information can be found at: http://matplotlib.org\n",
    "There are three different types of main plots in the package:\n",
    "\n",
    "1. plt.plot\n",
    "2. plt.scatter\n",
    "3. plt.bar\n",
    "\n",
    "Why 2D? The focus is to keep visualisation simple but stunning. Advanced information and results can be conveyed in lower dimensions. Avoid 3-D imagery or tilted charts. The human brain is not good at comparing volumes or angles.\n",
    "\n",
    "Firstly the necessary imports."
   ]
  },
  {
   "cell_type": "code",
   "execution_count": null,
   "metadata": {
    "ExecuteTime": {
     "end_time": "2024-01-12T19:10:07.940340Z",
     "start_time": "2024-01-12T19:10:07.935353Z"
    }
   },
   "outputs": [],
   "source": [
    "import matplotlib.pyplot as plt \n",
    "\n",
    "#from pylab import * # embedded in matplotlib to give matlab style visuals\n",
    "import numpy as np\n",
    "%matplotlib inline \n",
    "#%pylab inline"
   ]
  },
  {
   "cell_type": "markdown",
   "metadata": {},
   "source": [
    "Here's a comprehensive list of types supported by Python"
   ]
  },
  {
   "cell_type": "code",
   "execution_count": null,
   "metadata": {
    "ExecuteTime": {
     "end_time": "2024-01-12T19:10:36.111439Z",
     "start_time": "2024-01-12T19:10:36.103489Z"
    }
   },
   "outputs": [],
   "source": [
    "#fig = plt.figure()\n",
    "fig.canvas.get_supported_filetypes()"
   ]
  },
  {
   "cell_type": "markdown",
   "metadata": {},
   "source": [
    "Matplotlib is the overall library package containing modules such as pylab and pyplot. Each `pyplot` function makes some change to a figure e.g. it creates a figure, creates a plotting area in a figure, plots some lines in a plotting area, decorates the plot with labels, plus much more. "
   ]
  },
  {
   "cell_type": "markdown",
   "metadata": {},
   "source": [
    "**plotly** (discussed later) is a Python graphics library used to create interactive graphs. The library **cufflink** connects plotly with pandas to create graphs and charts of dataframes directly."
   ]
  },
  {
   "cell_type": "markdown",
   "metadata": {},
   "source": [
    "## Simple Line Plots\n",
    "Let's start with line plots and build on that. "
   ]
  },
  {
   "cell_type": "code",
   "execution_count": null,
   "metadata": {
    "ExecuteTime": {
     "end_time": "2024-01-12T19:10:50.569006Z",
     "start_time": "2024-01-12T19:10:50.377452Z"
    }
   },
   "outputs": [],
   "source": [
    "# simplest type of plot\n",
    "plt.plot([7,29,23,3,25]); #passing a list\n",
    "#plt.show() # this also works without .plt"
   ]
  },
  {
   "cell_type": "markdown",
   "metadata": {},
   "source": [
    "If a single list or array is provided (as in this example) to the plot() command, matplotlib assumes it is a sequence of $y$ values, and automatically generates the $x$ values for you. Since python ranges start with 0, the default $x$ vector has the same length as y but starts with 0. Hence the values for $x$ are [0,1,2,3]. It is an unrealistic example but nevertheless a good starting point when discussing the graphics package. In the example above we have\n",
    "<img src='./img/table 2.png' width=250>\n",
    "So clearly a $x$-axis is not needed. "
   ]
  },
  {
   "cell_type": "markdown",
   "metadata": {},
   "source": [
    "We can also create the plots by passing two lists, i.e. list 1 and list 2 which in turn represent the horizontal and vertical axes"
   ]
  },
  {
   "cell_type": "code",
   "execution_count": null,
   "metadata": {
    "ExecuteTime": {
     "end_time": "2024-01-12T19:12:44.802374Z",
     "start_time": "2024-01-12T19:12:44.686684Z"
    }
   },
   "outputs": [],
   "source": [
    "plt.plot([1,1.5,3,4.5,6], [7,2,2,3,5]) #passing a x-y list respectively\n",
    "plt.show() # this also works without .plt"
   ]
  },
  {
   "cell_type": "markdown",
   "metadata": {},
   "source": [
    "Below is more compact way of defining the coordinates"
   ]
  },
  {
   "cell_type": "code",
   "execution_count": null,
   "metadata": {
    "ExecuteTime": {
     "end_time": "2024-01-12T19:13:11.778103Z",
     "start_time": "2024-01-12T19:13:11.641171Z"
    }
   },
   "outputs": [],
   "source": [
    "x=[1,1.5,3,4.5,6]\n",
    "y=[7,2,2,3,5]\n",
    "plt.plot(x,y)"
   ]
  },
  {
   "cell_type": "markdown",
   "metadata": {},
   "source": [
    "We can display several data sets on one plot"
   ]
  },
  {
   "cell_type": "code",
   "execution_count": null,
   "metadata": {
    "ExecuteTime": {
     "end_time": "2024-01-12T19:13:17.914789Z",
     "start_time": "2024-01-12T19:13:17.782469Z"
    }
   },
   "outputs": [],
   "source": [
    "plt.plot([3,1,2,4])\n",
    "plt.plot([1,2,3,5])\n",
    "plt.plot([6,3,4,9]) \n",
    "plt.plot([8,1,7,2])\n",
    "plt.plot([1,4,9,16])\n",
    "plt.show();"
   ]
  },
  {
   "cell_type": "markdown",
   "metadata": {},
   "source": [
    "## Drawing a simple straight line \n",
    "Let's start by plotting $y=x$ by defining the domain: $-4\\le x \\le 4$. \n",
    "Introduce a different way of discretising the $x$-axis using the **linspace** function which has format linspace(first,last,num). \n",
    "\n",
    "This returns num evenly spaced samples over a specified interval [first,last], including the last value. So unlike the arange function that has a step-size, linspace has number of samples.\n",
    "\n",
    "To make clear how this function works, the parameters in the definition above give the following step size\n",
    "\n",
    "$$ \\frac{last - first}{num-1} $$"
   ]
  },
  {
   "cell_type": "code",
   "execution_count": null,
   "metadata": {
    "ExecuteTime": {
     "end_time": "2024-01-12T19:27:41.920050Z",
     "start_time": "2024-01-12T19:27:41.735259Z"
    }
   },
   "outputs": [],
   "source": [
    "x=np.linspace(-4,4,20) # remember we don't need more than two points for a straight line\n",
    "\n",
    "y=x\n",
    "plt.plot(x,y); # display's graph inline\n",
    "plt.savefig('C:/Users/Riaz/Desktop/lines.png'); # saving to directory given pathname"
   ]
  },
  {
   "cell_type": "markdown",
   "metadata": {},
   "source": [
    "Recall the earlier example in the section of lists, where we produced a list of cubic numbers using the for loop. Let's use that here to produce very compact code, by passing to the plot function, our list object "
   ]
  },
  {
   "cell_type": "code",
   "execution_count": null,
   "metadata": {
    "ExecuteTime": {
     "end_time": "2024-01-12T19:25:04.083982Z",
     "start_time": "2024-01-12T19:25:03.949904Z"
    }
   },
   "outputs": [],
   "source": [
    "y = [x**3-5*x**2-30*x+4 for x in range(10)] # x=0,...,9\n",
    "plt.plot(y); # the ; suppresses any meaningless output message - try without!"
   ]
  },
  {
   "cell_type": "markdown",
   "metadata": {},
   "source": [
    "In the previous graph, suppose we want to make the points on the curve more visible, the line\n",
    "\n",
    "plt.plot(y,'ro')\n",
    "\n",
    "which will on the blue line, produce red dots"
   ]
  },
  {
   "cell_type": "code",
   "execution_count": null,
   "metadata": {
    "ExecuteTime": {
     "end_time": "2024-01-12T20:29:03.900261Z",
     "start_time": "2024-01-12T20:29:03.759762Z"
    }
   },
   "outputs": [],
   "source": [
    "y = [x**3-5*x**2-30*x+4 for x in range(10)]\n",
    "plt.plot(y)\n",
    "plt.plot(y,'ro');"
   ]
  },
  {
   "cell_type": "markdown",
   "metadata": {},
   "source": [
    "## Plotting an arbitrary function $f(x)$ "
   ]
  },
  {
   "cell_type": "code",
   "execution_count": null,
   "metadata": {
    "ExecuteTime": {
     "end_time": "2024-01-12T19:51:47.188685Z",
     "start_time": "2024-01-12T19:51:47.041110Z"
    }
   },
   "outputs": [],
   "source": [
    "x=np.linspace(-3,4,30) \n",
    "y=-x**3+4*x**2-5*x+2\n",
    "plt.plot(x,y); # display's graph\n",
    "print(type(x))"
   ]
  },
  {
   "cell_type": "code",
   "execution_count": null,
   "metadata": {
    "ExecuteTime": {
     "end_time": "2024-01-12T19:28:15.986056Z",
     "start_time": "2024-01-12T19:28:15.830936Z"
    }
   },
   "outputs": [],
   "source": [
    "x=np.linspace(-3,3,200) \n",
    "y=np.sin(x) # note the library\n",
    "plt.plot(x,y);"
   ]
  },
  {
   "cell_type": "markdown",
   "metadata": {},
   "source": [
    "## Adding labels and titles"
   ]
  },
  {
   "cell_type": "code",
   "execution_count": null,
   "metadata": {
    "ExecuteTime": {
     "end_time": "2024-01-12T19:59:30.570987Z",
     "start_time": "2024-01-12T19:59:30.207433Z"
    }
   },
   "outputs": [],
   "source": [
    "x=np.linspace(-4,4,40) \n",
    "y=x**2\n",
    "\n",
    "plt.xlabel('$x$') # label x axis\n",
    "plt.ylabel('$y$') # label y axis\n",
    "plt.title('graph of $y=x^2$') # Title of figure\n",
    "plt.plot(x,y); # display's graph"
   ]
  },
  {
   "cell_type": "markdown",
   "metadata": {},
   "source": [
    "## Multiple Plots and adding legend"
   ]
  },
  {
   "cell_type": "code",
   "execution_count": null,
   "metadata": {
    "ExecuteTime": {
     "end_time": "2024-01-12T20:03:42.595664Z",
     "start_time": "2024-01-12T20:03:42.342669Z"
    }
   },
   "outputs": [],
   "source": [
    "x=np.linspace(-4,4,30)\n",
    "y1=x**2\n",
    "y2=-x**2\n",
    "y3=(x-2)**2\n",
    "plt.plot(x,y1, label='$y=x^2$') #single or double speech\n",
    "plt.plot(x,y2, label=\"$y=-x^2$\")\n",
    "plt.plot(x,y3, label=\"$y=(x-2)^2$\")\n",
    "plt.legend() # method for displaying a legend\n",
    "plt.savefig('C:/Users/Riaz/Desktop/plots.pdf')  #** REPLACE WITH YOUR LOCATION"
   ]
  },
  {
   "cell_type": "markdown",
   "metadata": {},
   "source": [
    "Another way of doing multiple plots is to use the **plot** method once."
   ]
  },
  {
   "cell_type": "code",
   "execution_count": null,
   "metadata": {
    "ExecuteTime": {
     "end_time": "2024-01-12T20:04:15.802569Z",
     "start_time": "2024-01-12T20:04:15.553487Z"
    }
   },
   "outputs": [],
   "source": [
    "plt.plot(x,y1,x,y2,x,y3);"
   ]
  },
  {
   "cell_type": "markdown",
   "metadata": {},
   "source": [
    "The above means that we can have separate discretisations so we could write\n",
    "plt.plot(x1,y1,x2,y2,x3,y3);\n",
    "\n",
    "e.g."
   ]
  },
  {
   "cell_type": "code",
   "execution_count": null,
   "metadata": {
    "ExecuteTime": {
     "end_time": "2024-01-12T20:04:33.671658Z",
     "start_time": "2024-01-12T20:04:33.526811Z"
    }
   },
   "outputs": [],
   "source": [
    "x1=np.linspace(-3,3,2)\n",
    "x2=np.linspace(0,4,20)\n",
    "x3=np.linspace(-2,3,30)\n",
    "y1=x1\n",
    "y2=x2**2\n",
    "y3=(x3-2)**2\n",
    "plt.plot(x1,y1,x2,y2,x3,y3);"
   ]
  },
  {
   "cell_type": "markdown",
   "metadata": {},
   "source": [
    "## Selecting colour, mixing, marker and linestyle - Bespoke plotting\n",
    "The colours in the previous plots are default or chosen from a limited list. Here we examine many more. Both the style of line and marker can be controlled by the user through the **plot** function.This means colour, marker and line style. Start with simple colour. **Note: the US spelling 'color' must be used to avoid a syntax error** "
   ]
  },
  {
   "cell_type": "markdown",
   "metadata": {},
   "source": [
    "For an exhaustive list of available colours and colour mixing, refer to https://htmlcolorcodes.com/ <br>\n",
    "\n",
    "We will use the a third parameter in the plot method. Start by noting the colours can be managed using the full names. <br>\n",
    "\n",
    "Also refer to http://www.html-color-names.com/. This site feels like being in the paint mixing section of your local B&Q!!\n"
   ]
  },
  {
   "cell_type": "code",
   "execution_count": null,
   "metadata": {
    "ExecuteTime": {
     "end_time": "2024-01-12T20:30:52.989724Z",
     "start_time": "2024-01-12T20:30:52.843546Z"
    }
   },
   "outputs": [],
   "source": [
    "x=np.linspace(-4,4,50) \n",
    "y=x**4\n",
    "plt.plot(x,y, color = 'red', linestyle='--'); # the 3rd function parameter here defines the colour\n",
    "# The 4th parameter defines the style of line, e.g. solid, dashed, etc."
   ]
  },
  {
   "cell_type": "markdown",
   "metadata": {},
   "source": [
    "We see the additional function argument allows the user to control the plot colour for $y=x^4$. This is the standard syntax. We can also use **color = 'r'** to achieve the same result.\n",
    "\n",
    "Now look at various marker styles, using the last plot. "
   ]
  },
  {
   "cell_type": "code",
   "execution_count": null,
   "metadata": {
    "ExecuteTime": {
     "end_time": "2024-01-12T20:05:11.342772Z",
     "start_time": "2024-01-12T20:05:11.197889Z"
    }
   },
   "outputs": [],
   "source": [
    "x=np.linspace(-4,4,50)\n",
    "y=x**4\n",
    "plt.plot(x,y, 'c:'); # change color to green and use * for the plot\n",
    "# note no 'color=' parameter to be explicitly defined."
   ]
  },
  {
   "cell_type": "code",
   "execution_count": null,
   "metadata": {
    "ExecuteTime": {
     "end_time": "2024-01-12T20:05:19.241868Z",
     "start_time": "2024-01-12T20:05:19.101833Z"
    }
   },
   "outputs": [],
   "source": [
    "t=np.linspace(0,60,50)\n",
    "H=t**3-57.004*t**2+173.534*t-134.242-t\n",
    "plt.plot(t,H, 'r'); # change color to green and use * for the plot\n",
    "# note no 'color=' parameter to be explicitly defined."
   ]
  },
  {
   "cell_type": "markdown",
   "metadata": {},
   "source": [
    "We have just looked at **linestyle**. Now explore the different types of **marker**"
   ]
  },
  {
   "cell_type": "markdown",
   "metadata": {},
   "source": [
    "Plot a blue line where the line style consists of dots"
   ]
  },
  {
   "cell_type": "code",
   "execution_count": null,
   "metadata": {
    "ExecuteTime": {
     "end_time": "2024-01-12T20:24:13.760271Z",
     "start_time": "2024-01-12T20:24:13.621082Z"
    }
   },
   "outputs": [],
   "source": [
    "x=np.linspace(-4,4,50)\n",
    "y=x**4\n",
    "plt.plot(x,y,'b*'); # now change colour to green and use dotted line style for the plot"
   ]
  },
  {
   "cell_type": "code",
   "execution_count": null,
   "metadata": {
    "ExecuteTime": {
     "end_time": "2024-01-12T20:24:16.068652Z",
     "start_time": "2024-01-12T20:24:15.924866Z"
    }
   },
   "outputs": [],
   "source": [
    "x=np.linspace(-2,2,30) #test question\n",
    "y=x**4+3*x**2-3\n",
    "plt.plot(x,y, 'o', color='blue', ); # display's graph in terms of circles"
   ]
  },
  {
   "cell_type": "markdown",
   "metadata": {},
   "source": [
    "Here's a slightly more comprehensive list of options. The first colour column lists the 7 short colour codes rgbcmyk (white isn't included in this list).\n",
    "As an exercise, try each one!\n",
    "<img src='./img/graphics.png' width=750>"
   ]
  },
  {
   "cell_type": "markdown",
   "metadata": {},
   "source": [
    "Let's look at the parameter called **marker**"
   ]
  },
  {
   "cell_type": "code",
   "execution_count": null,
   "metadata": {
    "ExecuteTime": {
     "end_time": "2024-01-12T20:27:00.371451Z",
     "start_time": "2024-01-12T20:27:00.227774Z"
    }
   },
   "outputs": [],
   "source": [
    "x=np.linspace(-2,2,30) #test question\n",
    "y=x**4+3*x**2-3\n",
    "plt.plot(x,y, marker=\"s\", color='cornflowerblue'); # display's graph using a square marker at each defined x"
   ]
  },
  {
   "cell_type": "markdown",
   "metadata": {},
   "source": [
    "**Exercise:** Add an extra parameter to change the line style"
   ]
  },
  {
   "cell_type": "markdown",
   "metadata": {},
   "source": [
    "For a more up to date list of **marker** styles look at https://matplotlib.org/stable/api/markers_api.html"
   ]
  },
  {
   "cell_type": "markdown",
   "metadata": {},
   "source": [
    "Now look at **grayscale**, which is a range of shades of gray without apparent color. 0 being black and 1 representing white."
   ]
  },
  {
   "cell_type": "code",
   "execution_count": null,
   "metadata": {
    "ExecuteTime": {
     "end_time": "2024-01-12T20:31:11.310392Z",
     "start_time": "2024-01-12T20:31:11.171282Z"
    }
   },
   "outputs": [],
   "source": [
    "plt.plot(x,np.cosh(x)+np.sinh(x),color='0.62'); # Grayscale between 0 and 1"
   ]
  },
  {
   "cell_type": "code",
   "execution_count": null,
   "metadata": {
    "ExecuteTime": {
     "end_time": "2024-01-12T20:31:18.538069Z",
     "start_time": "2024-01-12T20:31:18.372791Z"
    }
   },
   "outputs": [],
   "source": [
    "# Hexcode (RRGGBB from 00 to FF)\n",
    "plt.plot(x,np.sin(x), color='#AF601A');  "
   ]
  },
  {
   "cell_type": "code",
   "execution_count": null,
   "metadata": {
    "ExecuteTime": {
     "end_time": "2024-01-12T20:31:23.279947Z",
     "start_time": "2024-01-12T20:31:23.124753Z"
    }
   },
   "outputs": [],
   "source": [
    "plt.plot(x,np.sinh(x),color=(0.55,0.4,0.9)) # RGB tuple, values 0 to 1"
   ]
  },
  {
   "cell_type": "code",
   "execution_count": null,
   "metadata": {
    "ExecuteTime": {
     "end_time": "2024-01-12T20:31:27.225135Z",
     "start_time": "2024-01-12T20:31:27.070777Z"
    }
   },
   "outputs": [],
   "source": [
    "plt.plot(x,np.tanh(x),color='chartreuse'); #all HTML color names supported"
   ]
  },
  {
   "cell_type": "markdown",
   "metadata": {},
   "source": [
    "Here is an exceedingly comprehensive list:\n",
    "\n",
    "**'aliceblue': '#F0F8FF',\n",
    "'antiquewhite': '#FAEBD7',\n",
    "'aqua': '#00FFFF',\n",
    "'aquamarine': '#7FFFD4',\n",
    "'azure': '#F0FFFF',\n",
    "'beige': '#F5F5DC',\n",
    "'bisque': '#FFE4C4',\n",
    "'black': '#000000',\n",
    "'blanchedalmond': '#FFEBCD',\n",
    "'blue': '#3780bf',\n",
    "'bluegray': '#565656',\n",
    "'bluepurple': '#6432AB',\n",
    "'blueviolet': '#8A2BE2',\n",
    "'brick': '#E24A33',\n",
    "'brightblue': '#0000FF',\n",
    "'brightred': '#FF0000',\n",
    "'brown': '#A52A2A',\n",
    "'burlywood': '#DEB887',\n",
    "'cadetblue': '#5F9EA0',\n",
    "'charcoal': '#151516',\n",
    "'chartreuse': '#7FFF00',\n",
    "'chocolate': '#D2691E',\n",
    "'coral': '#FF7F50',\n",
    "'cornflowerblue': '#6495ED',\n",
    "'cornsilk': '#FFF8DC',\n",
    "'crimson': '#DC143C',\n",
    "'cyan': '#00FFFF',\n",
    "'darkblue': '#00008B',\n",
    "'darkcyan': '#008B8B',\n",
    "'darkgoldenrod': '#B8860B',\n",
    "'darkgray': '#A9A9A9',\n",
    "'darkgreen': '#006400',\n",
    "'darkgrey': '#A9A9A9',\n",
    "'darkkhaki': '#BDB76B',\n",
    "'darkmagenta': '#8B008B',\n",
    "'darkolivegreen': '#556B2F',\n",
    "'darkorange': '#FF8C00',\n",
    "'darkorchid': '#9932CC',\n",
    "'darkred': '#8B0000',\n",
    "'darksalmon': '#E9967A',\n",
    "'darkseagreen': '#8FBC8F',\n",
    "'darkslateblue': '#483D8B',\n",
    "'darkslategray': '#2F4F4F',\n",
    "'darkslategrey': '#2F4F4F',\n",
    "'darkturquoise': '#00CED1',\n",
    "'darkviolet': '#9400D3',\n",
    "'deeppink': '#FF1493',\n",
    "'deepskyblue': '#00BFFF',\n",
    "'dimgray': '#696969',\n",
    "'dimgrey': '#696969',\n",
    "'dodgerblue': '#1E90FF',\n",
    "'firebrick': '#B22222',\n",
    "'floralwhite': '#FFFAF0',\n",
    "'forestgreen': '#228B22',\n",
    "'fuchsia': '#FF00FF',\n",
    "'gainsboro': '#DCDCDC',\n",
    "'ghostwhite': '#F8F8FF',\n",
    "'gold': '#FFD700',\n",
    "'goldenrod': '#DAA520',\n",
    "'grassgreen': '#32ab60',\n",
    "'gray': '#808080',\n",
    "'green': '#008000',\n",
    "'greenyellow': '#ADFF2F',\n",
    "'grey': '#808080',\n",
    "'grey01': '#0A0A0A',\n",
    "'grey02': '#151516',\n",
    "'grey03': '#1A1A1C',\n",
    "'grey04': '#1E1E21',\n",
    "'grey05': '#252529',\n",
    "'grey06': '#36363C',\n",
    "'grey07': '#3C3C42',\n",
    "'grey08': '#434343',\n",
    "'grey09': '#666570',\n",
    "'grey10': '#666666',\n",
    "'grey11': '#8C8C8C',\n",
    "'grey12': '#C2C2C2',\n",
    "'grey13': '#E2E2E2',\n",
    "'grey14': '#E5E5E5',\n",
    "'henanigans_bg': '#242424',\n",
    "'henanigans_blue1': '#5F95DE',\n",
    "'henanigans_blue2': '#93B6E6',\n",
    "'henanigans_cyan1': '#7EC4CF',\n",
    "'henanigans_cyan2': '#B6ECF3',\n",
    "'henanigans_dark1': '#040404',\n",
    "'henanigans_dark2': '#141414',\n",
    "'henanigans_dialog1': '#444459',\n",
    "'henanigans_dialog2': '#5D5D7A',\n",
    "'henanigans_green1': '#8BD155',\n",
    "'henanigans_green2': '#A0D17B',\n",
    "'henanigans_grey1': '#343434',\n",
    "'henanigans_grey2': '#444444',\n",
    "'henanigans_light1': '#A4A4A4',\n",
    "'henanigans_light2': '#F4F4F4',\n",
    "'henanigans_orange1': '#EB9E58',\n",
    "'henanigans_orange2': '#EBB483',\n",
    "'henanigans_purple1': '#C98FDE',\n",
    "'henanigans_purple2': '#AC92DE',\n",
    "'henanigans_red1': '#F77E70',\n",
    "'henanigans_red2': '#DE958E',\n",
    "'henanigans_yellow1': '#E8EA7E',\n",
    "'henanigans_yellow2': '#E9EABE',\n",
    "'honeydew': '#F0FFF0',\n",
    "'hotpink': '#FF69B4',\n",
    "'indianred': '#CD5C5C',\n",
    "'indigo': '#4B0082',\n",
    "'ivory': '#FFFFF0',\n",
    "'java': '#17BECF',\n",
    "'khaki': '#F0E68C',\n",
    "'lavender': '#E6E6FA',\n",
    "'lavenderblush': '#FFF0F5',\n",
    "'lawngreen': '#7CFC00',\n",
    "'lemonchiffon': '#FFFACD',\n",
    "'lightblue': '#ADD8E6',\n",
    "'lightblue2': '#80b1d3',\n",
    "'lightcoral': '#F08080',\n",
    "'lightcyan': '#E0FFFF',\n",
    "'lightgoldenrodyellow': '#FAFAD2',\n",
    "'lightgray': '#D3D3D3',\n",
    "'lightgreen': '#90EE90',\n",
    "'lightgrey': '#D3D3D3',\n",
    "'lightivory': '#F6F6F6',\n",
    "'lightpink': '#FFB6C1',\n",
    "'lightpink2': '#fccde5',\n",
    "'lightpurple': '#bc80bd',\n",
    "'lightsalmon': '#FFA07A',\n",
    "'lightseagreen': '#20B2AA',\n",
    "'lightskyblue': '#87CEFA',\n",
    "'lightslategray': '#778899',\n",
    "'lightslategrey': '#778899',\n",
    "'lightsteelblue': '#B0C4DE',\n",
    "'lightteal': '#8dd3c7',\n",
    "'lightviolet': '#8476CA',\n",
    "'lightyellow': '#FFFFE0',\n",
    "'lime': '#00FF00',\n",
    "'lime2': '#8EBA42',\n",
    "'limegreen': '#32CD32',\n",
    "'linen': '#FAF0E6',\n",
    "'magenta': '#FF00FF',\n",
    "'maroon': '#800000',\n",
    "'mediumaquamarine': '#66CDAA',\n",
    "'mediumblue': '#0000CD',\n",
    "'mediumgray': '#656565',\n",
    "'mediumorchid': '#BA55D3',\n",
    "'mediumpurple': '#9370DB',\n",
    "'mediumseagreen': '#3CB371',\n",
    "'mediumslateblue': '#7B68EE',\n",
    "'mediumspringgreen': '#00FA9A',\n",
    "'mediumturquoise': '#48D1CC',\n",
    "'mediumvioletred': '#C71585',\n",
    "'midnightblue': '#191970',\n",
    "'mintcream': '#F5FFFA',\n",
    "'mistyrose': '#FFE4E1',\n",
    "'moccasin': '#FFE4B5',\n",
    "'mustard': '#FBC15E',\n",
    "'navajowhite': '#FFDEAD',\n",
    "'navy': '#000080',\n",
    "'oldlace': '#FDF5E6',\n",
    "'olive': '#808000',\n",
    "'olivedrab': '#6B8E23',\n",
    "'orange': '#ff9933',\n",
    "'orangered': '#FF4500',\n",
    "'orchid': '#DA70D6',\n",
    "'palegoldenrod': '#EEE8AA',\n",
    "'palegreen': '#98FB98',\n",
    "'paleolive': '#b3de69',\n",
    "'paleturquoise': '#AFEEEE',\n",
    "'palevioletred': '#DB7093',\n",
    "'papayawhip': '#FFEFD5',\n",
    "'peachpuff': '#FFDAB9',\n",
    "'pearl': '#D9D9D9',\n",
    "'pearl02': '#F5F6F9',\n",
    "'pearl03': '#E1E5ED',\n",
    "'pearl04': '#9499A3',\n",
    "'pearl05': '#6F7B8B',\n",
    "'pearl06': '#4D5663',\n",
    "'peru': '#CD853F',\n",
    "'pink': '#ff0088',\n",
    "'pinksalmon': '#FFB5B8',\n",
    "'plum': '#DDA0DD',\n",
    "'polar': '#ACAFB5',\n",
    "'polarblue': '#0080F0',\n",
    "'polarbluelight': '#46A0F0',\n",
    "'polarcyan': '#ADFCFC',\n",
    "'polardark': '#484848',\n",
    "'polardiv': '#D5D8DB',\n",
    "'polardust': '#F2F3F7',\n",
    "'polargreen': '#309054',\n",
    "'polargrey': '#505050',\n",
    "'polarorange': '#EE7600',\n",
    "'polarpurple': '#6262DE',\n",
    "'polarred': '#D94255',\n",
    "'powderblue': '#B0E0E6',\n",
    "'purple': '#800080',\n",
    "'red': '#db4052',\n",
    "'rose': '#FFC0CB',\n",
    "'rosybrown': '#BC8F8F',\n",
    "'royalblue': '#4169E1',\n",
    "'saddlebrown': '#8B4513',\n",
    "'salmon': '#fb8072',\n",
    "'sandybrown': '#FAA460',\n",
    "'seaborn': '#EAE7E4',\n",
    "'seagreen': '#2E8B57',\n",
    "'seashell': '#FFF5EE',\n",
    "'sienna': '#A0522D',\n",
    "'silver': '#C0C0C0',\n",
    "'skyblue': '#87CEEB',\n",
    "'slateblue': '#6A5ACD',\n",
    "'slategray': '#708090',\n",
    "'slategrey': '#708090',\n",
    "'smurf': '#3E6FB0',\n",
    "'snow': '#FFFAFA',\n",
    "'springgreen': '#00FF7F',\n",
    "'steelblue': '#4682B4',\n",
    "'tan': '#D2B48C',\n",
    "'teal': '#008080',\n",
    "'thistle': '#D8BFD8',\n",
    "'tomato': '#FF6347',\n",
    "'turquoise': '#40E0D0',\n",
    "'violet': '#EE82EE',\n",
    "'wheat': '#F5DEB3',\n",
    "'white': '#FFFFFF',\n",
    "'whitesmoke': '#F5F5F5',\n",
    "'yellow': '#ffff33',\n",
    "'yellowgreen': '#9ACD32'**\n"
   ]
  },
  {
   "cell_type": "markdown",
   "metadata": {},
   "source": [
    "Let's repeat the earlier example used to demonstrate the use of legends and present different coloured linestyles. We define the line styles and colors in the second function argument"
   ]
  },
  {
   "cell_type": "code",
   "execution_count": null,
   "metadata": {
    "ExecuteTime": {
     "end_time": "2024-01-12T22:26:47.531960Z",
     "start_time": "2024-01-12T22:26:47.290581Z"
    }
   },
   "outputs": [],
   "source": [
    "x=np.linspace(-4,4,30)\n",
    "y1=x**2\n",
    "y2=-x**2\n",
    "y3=(x-2)**2\n",
    "plt.plot(x,y1, 'ro', label='$y=x^2$') # red circles\n",
    "plt.plot(x,y2, 'kH', label=\"$y=-x^2$\") # black hexagons\n",
    "plt.plot(x,y3, 'c^', label=\"$y=(x-2)^2$\") #cyan triangles\n",
    "plt.legend()\n",
    "plt.savefig('C:/Users/Riaz/Desktop/30 Sept 2022.png') # saves to desktop"
   ]
  },
  {
   "cell_type": "markdown",
   "metadata": {},
   "source": [
    "We can specify line styles using the full-name description using the method **linestyle**"
   ]
  },
  {
   "cell_type": "code",
   "execution_count": null,
   "metadata": {
    "ExecuteTime": {
     "end_time": "2024-01-12T22:26:49.981919Z",
     "start_time": "2024-01-12T22:26:49.821313Z"
    }
   },
   "outputs": [],
   "source": [
    "plt.plot(x,x+0,linestyle='solid') # x defined above\n",
    "plt.plot(x,-x+1,linestyle='dashed')\n",
    "plt.plot(x,x-1,linestyle='dashdot')\n",
    "plt.plot(x,-x+2,linestyle='dotted');"
   ]
  },
  {
   "cell_type": "markdown",
   "metadata": {},
   "source": [
    "The **linestyle** parameter can be replaced by **ls**"
   ]
  },
  {
   "cell_type": "code",
   "execution_count": null,
   "metadata": {
    "ExecuteTime": {
     "end_time": "2024-01-12T22:30:36.128830Z",
     "start_time": "2024-01-12T22:30:35.983075Z"
    }
   },
   "outputs": [],
   "source": [
    "plt.plot(x,x+4, marker=\"^\");"
   ]
  },
  {
   "cell_type": "code",
   "execution_count": null,
   "metadata": {
    "ExecuteTime": {
     "end_time": "2024-01-12T22:31:14.569357Z",
     "start_time": "2024-01-12T22:31:14.412211Z"
    }
   },
   "outputs": [],
   "source": [
    "plt.plot([1, 2, 3], marker='p')"
   ]
  },
  {
   "cell_type": "code",
   "execution_count": null,
   "metadata": {
    "ExecuteTime": {
     "end_time": "2024-01-12T20:31:46.369854Z",
     "start_time": "2024-01-12T20:31:46.211723Z"
    }
   },
   "outputs": [],
   "source": [
    "plt.plot([1, 2, 3], marker=11);"
   ]
  },
  {
   "cell_type": "markdown",
   "metadata": {},
   "source": [
    "## More on plotting features\n",
    "Here we look at other function parameters. Start with controlling the thickness of our line plot. This is achieved using  **linewidth**. We will use an earlier example. "
   ]
  },
  {
   "cell_type": "code",
   "execution_count": null,
   "metadata": {
    "ExecuteTime": {
     "end_time": "2024-01-12T22:31:29.081350Z",
     "start_time": "2024-01-12T22:31:28.935156Z"
    }
   },
   "outputs": [],
   "source": [
    "x=np.linspace(-3,5,50)\n",
    "y1=x ** 4 -10*x**3+21*x**2+40*x-100\n",
    "y2=x ** 4 -10*x**3+21*x**2+40*x-150\n",
    "plt.plot(x,y1, color='b', linestyle=\"-.\", linewidth=1.5 ); \n",
    "plt.plot(x,y2, color='r', linestyle=\"-.\", linewidth=3.5 ); "
   ]
  },
  {
   "cell_type": "markdown",
   "metadata": {},
   "source": [
    "**lw** also works for linewidth"
   ]
  },
  {
   "cell_type": "markdown",
   "metadata": {},
   "source": [
    "## Figure size\n",
    "The plots created so far have been done using a set of default dimensions. The default figure size of 8x6 inches was reduced to 6.4x4.8 inches. The size can be changed using the method **figure** with a function parameter **figsize=(l,w)** where l represents the length and w is the width in inches. To convert to say cm one way is to do this by writing a user defined function to perform the conversion. <br>\n",
    "**1in=2.54cm**"
   ]
  },
  {
   "cell_type": "code",
   "execution_count": null,
   "metadata": {
    "ExecuteTime": {
     "end_time": "2024-01-12T22:34:38.440284Z",
     "start_time": "2024-01-12T22:34:38.268620Z"
    }
   },
   "outputs": [],
   "source": [
    "x=np.linspace(-4,4,30)\n",
    "plt.figure(figsize=(12,8)) # re-do later set the figure size here with length 10 and width 8\n",
    "y=x**2\n",
    "plt.plot(x,y); # display's graph inline"
   ]
  },
  {
   "cell_type": "markdown",
   "metadata": {},
   "source": [
    "Other features such as face colour can also be set in the figure method. Suppose we would like a pink background, then an additional function argument facecolor='pink' achieves this"
   ]
  },
  {
   "cell_type": "code",
   "execution_count": null,
   "metadata": {
    "ExecuteTime": {
     "end_time": "2024-01-12T22:34:47.191859Z",
     "start_time": "2024-01-12T22:34:47.011726Z"
    }
   },
   "outputs": [],
   "source": [
    "x=np.linspace(-4,4,2)\n",
    "plt.figure(figsize=(10,8), facecolor='aliceblue') # change both dim and facecolour\n",
    "y=x\n",
    "plt.plot(x,y); # display's graph inline"
   ]
  },
  {
   "cell_type": "markdown",
   "metadata": {},
   "source": [
    "## Multiple plots\n",
    "The option to present several plots in a single figure is advantageous for visual effects and comparison purposes. This is also achievable using the **figure** method. The subplot() function specifies\n",
    "**subplot(num_rows, num_cols, fignum)**\n",
    "- number of rows\n",
    "- number of columns\n",
    "- The figure number: fignum where fignum ranges from 1 to numrows$\\times$numcols.\n",
    "\n",
    "\n",
    "Let's start with three subplots."
   ]
  },
  {
   "cell_type": "code",
   "execution_count": null,
   "metadata": {
    "ExecuteTime": {
     "end_time": "2024-01-12T22:34:53.442500Z",
     "start_time": "2024-01-12T22:34:53.022942Z"
    }
   },
   "outputs": [],
   "source": [
    "#Subplot\n",
    "plt.figure(1, figsize=(10,8)) # overall dimnesions \n",
    "# in \"inches\", can change DPI \"dots per inch\"\n",
    "x=np.linspace(-2*np.pi,2*np.pi,100)\n",
    "y1=np.sin(x)\n",
    "y2=np.cos(x)\n",
    "y3=y1+y2\n",
    "plt.subplot(3,1,1) # 3 by 1 and plot 1\n",
    "plt.plot(x, y1, 'go-')\n",
    "plt.title('Introduction to trig functions')\n",
    "plt.ylabel('$y=sinx$')\n",
    "plt.subplot(3,1, 2) # 3 by 1 and plot 2\n",
    "plt.plot(x, y2, 'r.-')\n",
    "plt.ylabel('$y=cosx$')\n",
    "plt.subplot(3,1,3) # 3 by 1 and plot 3\n",
    "plt.plot(x,y3, 'm*:')\n",
    "plt.ylabel('$y=sinx+cosx$')"
   ]
  },
  {
   "cell_type": "code",
   "execution_count": null,
   "metadata": {
    "ExecuteTime": {
     "end_time": "2024-01-12T22:35:23.192778Z",
     "start_time": "2024-01-12T22:35:22.436035Z"
    }
   },
   "outputs": [],
   "source": [
    "#Subplot\n",
    "plt.figure(1, figsize=(10,10)) # overall dimnesions \n",
    "# in \"inches\", can change DPI \"dots per inch\"\n",
    "x=np.linspace(-4,4,50)\n",
    "y1=x**2\n",
    "y2=x**3\n",
    "y3=-y2\n",
    "y4=np.exp(x)\n",
    "plt.subplot(2,2, 1) # 3 by 1 and plot 1\n",
    "plt.plot(x, y1, 'go-')\n",
    "plt.title('Graph 1', fontsize=10)\n",
    "plt.ylabel('$y=x^2$')\n",
    "plt.subplot(2,2, 2) # 3 by 1 and plot 2\n",
    "plt.plot(x, y2, 'r.-')\n",
    "plt.title('Graph 2', fontsize=10)\n",
    "plt.ylabel('$y=x^3$')\n",
    "plt.subplot(2,2,3) # 3 by 1 and plot 3\n",
    "plt.plot(x,y3, 'm*:')\n",
    "plt.ylabel('$y=x^2+x^3$')\n",
    "plt.title('Graph 3', fontsize=10)\n",
    "plt.subplot(2,2,4)\n",
    "plt.plot(x,y4, 'k--')\n",
    "plt.title('Graph 4', fontsize=10)\n",
    "plt.ylabel('$y=e^x$')\n",
    "plt.tight_layout() # leaves a space between subplots (try commenting out this line)\n",
    "plt.suptitle('Main Title', fontsize=15, color = 'red')"
   ]
  },
  {
   "cell_type": "markdown",
   "metadata": {},
   "source": [
    "## Defining a font style\n",
    "The fonts used so far for the title and axes labels are a default setting. One can define their own styles and then use in all plots. Consider the following"
   ]
  },
  {
   "cell_type": "code",
   "execution_count": null,
   "metadata": {
    "ExecuteTime": {
     "end_time": "2024-01-12T22:38:11.980786Z",
     "start_time": "2024-01-12T22:38:11.964830Z"
    }
   },
   "outputs": [],
   "source": [
    "font_riaz = {'family': 'calibri', # this is the font\n",
    "'color': '#B233FF', # colour\n",
    "'weight': 'bold', # normal or bold\n",
    "'size': 18, # size of font\n",
    "}"
   ]
  },
  {
   "cell_type": "markdown",
   "metadata": {},
   "source": [
    "Some of the fonts availble include **Tahoma**, **DejaVu Sans**, **Lucida Grande**, **Verdana**, **sans serif**, **Times New Roman**"
   ]
  },
  {
   "cell_type": "markdown",
   "metadata": {},
   "source": [
    "Having designed this 'bespoke' font, let's use it by repeating an earlier plot"
   ]
  },
  {
   "cell_type": "code",
   "execution_count": null,
   "metadata": {
    "ExecuteTime": {
     "end_time": "2024-01-12T22:38:23.481304Z",
     "start_time": "2024-01-12T22:38:23.275598Z"
    }
   },
   "outputs": [],
   "source": [
    "x=np.linspace(-4,4,2)\n",
    "plt.figure(figsize=(10,8), facecolor='pink') \n",
    "y=x\n",
    "plt.title('A straight line', fontdict=font_riaz)\n",
    "plt.plot(x,y); # display's graph inline"
   ]
  },
  {
   "cell_type": "markdown",
   "metadata": {},
   "source": [
    "## Adding text to a graph\n",
    "Using the user-defined font"
   ]
  },
  {
   "cell_type": "code",
   "execution_count": null,
   "metadata": {
    "ExecuteTime": {
     "end_time": "2024-01-12T22:38:29.444050Z",
     "start_time": "2024-01-12T22:38:29.135066Z"
    }
   },
   "outputs": [],
   "source": [
    "x = np.linspace(0.0, 5.0, 100)\n",
    "y = np.sin(2*np.pi*x)*np.exp(x)\n",
    "plt.plot(x, y, 'k')\n",
    "plt.title('exponential growth', fontdict=font_riaz) #(x,y) coords for start of label\n",
    "plt.text(2, 30, '$\\sin(2 \\pi t) e^{t}$', fontdict=font_riaz)\n",
    "plt.show()"
   ]
  },
  {
   "cell_type": "markdown",
   "metadata": {},
   "source": [
    "## Annotating a graph\n",
    "Similar to the previous discussion of adding text, we now do something similar where we **annotate** our graph using an appropriately named method. Here we reproduce the above graph and label the region of decay.  "
   ]
  },
  {
   "cell_type": "code",
   "execution_count": null,
   "metadata": {
    "ExecuteTime": {
     "end_time": "2024-01-12T22:38:40.315964Z",
     "start_time": "2024-01-12T22:38:40.092121Z"
    }
   },
   "outputs": [],
   "source": [
    "x = np.linspace(0.0, 5.0, 100)\n",
    "y = np.sin(2*np.pi*x) * np.exp(x)\n",
    "plt.plot(x, y, 'k')\n",
    "plt.title('Let\\'s discuss annotation', fontdict=font_riaz) #(x,y) coords for start of label\n",
    "plt.annotate('decay', xy=(1, 5), xytext=(2,50),\n",
    "             arrowprops=dict(facecolor='black', shrink=0.01),\n",
    "             )\n",
    "plt.annotate('local minimum', xy=(4.8, -120), xytext=(1,-120),\n",
    "             arrowprops=dict(facecolor='black', shrink=0.01),\n",
    "             )\n",
    "plt.show()"
   ]
  },
  {
   "cell_type": "markdown",
   "metadata": {},
   "source": [
    "This is a simple example and we explain the function parameters. \n",
    "* parameter 1 - text used to annotate the graph\n",
    "* parameter 2 - xy coordinates of the arrow tip\n",
    "* parameter 3 - xytext is the text location an  in data coordinates. \n",
    "\n",
    "There are a variety of other coordinate systems one can choose -- see Basic annotation and Advanced Annotations for details. More examples can be found in Annotating Plots."
   ]
  },
  {
   "cell_type": "markdown",
   "metadata": {},
   "source": [
    "# Sympy - Symbolic algebra in Python"
   ]
  },
  {
   "cell_type": "markdown",
   "metadata": {
    "collapsed": true
   },
   "source": [
    "## Introduction\n",
    "Sympy is one of two Computer Algebra Systems (CAS) for Python. Its focus is on code simplicity while becoming a complete symbolic algebra package. To get started import the module sympy. All expressions are kept in their symbolic form."
   ]
  },
  {
   "cell_type": "code",
   "execution_count": null,
   "metadata": {
    "ExecuteTime": {
     "end_time": "2024-01-13T15:21:16.930192Z",
     "start_time": "2024-01-13T15:21:16.916229Z"
    }
   },
   "outputs": [],
   "source": [
    "import math as math\n",
    "math.sqrt(2)"
   ]
  },
  {
   "cell_type": "code",
   "execution_count": 1,
   "metadata": {
    "ExecuteTime": {
     "end_time": "2024-01-13T17:24:09.917590Z",
     "start_time": "2024-01-13T17:24:09.502443Z"
    }
   },
   "outputs": [],
   "source": [
    "import sympy as sp"
   ]
  },
  {
   "cell_type": "markdown",
   "metadata": {},
   "source": [
    "Now try the following "
   ]
  },
  {
   "cell_type": "code",
   "execution_count": null,
   "metadata": {
    "ExecuteTime": {
     "end_time": "2024-01-13T15:21:31.913995Z",
     "start_time": "2024-01-13T15:21:31.901035Z"
    }
   },
   "outputs": [],
   "source": [
    "sp.sqrt(2)"
   ]
  },
  {
   "cell_type": "markdown",
   "metadata": {},
   "source": [
    "Let's square each root"
   ]
  },
  {
   "cell_type": "code",
   "execution_count": null,
   "metadata": {
    "ExecuteTime": {
     "end_time": "2024-01-13T15:21:43.187946Z",
     "start_time": "2024-01-13T15:21:43.182932Z"
    }
   },
   "outputs": [],
   "source": [
    "(math.sqrt(2))**2"
   ]
  },
  {
   "cell_type": "code",
   "execution_count": null,
   "metadata": {
    "ExecuteTime": {
     "end_time": "2024-01-13T15:21:46.766811Z",
     "start_time": "2024-01-13T15:21:46.751290Z"
    }
   },
   "outputs": [],
   "source": [
    "sp.sqrt(2)**2"
   ]
  },
  {
   "cell_type": "markdown",
   "metadata": {},
   "source": [
    "We can produce very nice LATEX formatted output using the **init_printing()** function. However we do need to import a function **symbol**. Let's start with something really basic. Suppose we want to simplify $(2x+1)(x-1)$"
   ]
  },
  {
   "cell_type": "code",
   "execution_count": null,
   "metadata": {
    "ExecuteTime": {
     "end_time": "2024-01-13T15:21:56.066194Z",
     "start_time": "2024-01-13T15:21:56.051205Z"
    }
   },
   "outputs": [],
   "source": [
    "from sympy import init_printing\n",
    "init_printing()\n",
    "from sympy import init_session"
   ]
  },
  {
   "cell_type": "code",
   "execution_count": null,
   "metadata": {
    "ExecuteTime": {
     "end_time": "2024-01-13T15:57:15.564754Z",
     "start_time": "2024-01-13T15:57:15.546958Z"
    }
   },
   "outputs": [],
   "source": [
    "sp.init_session()"
   ]
  },
  {
   "cell_type": "markdown",
   "metadata": {},
   "source": [
    "Clearly we see the difference between output in sympy and other languages. The former bring in algebraic form, while others provide numerical form"
   ]
  },
  {
   "cell_type": "markdown",
   "metadata": {},
   "source": [
    "Simple ice-breaker. Calculate a prime number. Suppose we want the $n^{\\mathrm {th}}$, then sp.prime(n) will return the prime at that position. It assumes 2 is the first prime"
   ]
  },
  {
   "cell_type": "code",
   "execution_count": null,
   "metadata": {
    "ExecuteTime": {
     "end_time": "2024-01-13T16:05:51.244424Z",
     "start_time": "2024-01-13T16:05:51.230415Z"
    }
   },
   "outputs": [],
   "source": [
    "print(sp.prime(1)); \n",
    "print(sp.prime(8))"
   ]
  },
  {
   "cell_type": "code",
   "execution_count": 4,
   "metadata": {
    "ExecuteTime": {
     "end_time": "2024-01-13T17:24:41.881494Z",
     "start_time": "2024-01-13T17:24:41.662744Z"
    }
   },
   "outputs": [
    {
     "data": {
      "text/latex": [
       "$\\displaystyle \\left(x - 1\\right)^{2} \\cdot \\left(2 x + 2\\right)$"
      ],
      "text/plain": [
       "(x - 1)**2*(2*x + 2)"
      ]
     },
     "execution_count": 4,
     "metadata": {},
     "output_type": "execute_result"
    }
   ],
   "source": [
    "x=sp.Symbol('x') # this is the variable being used\n",
    "2*(x+1)*(x-1)**2"
   ]
  },
  {
   "cell_type": "markdown",
   "metadata": {},
   "source": [
    "What makes this module powerful is the algebraic manipulation it performs. Let's stay with the previous expression and expand it using the **expand()** function"
   ]
  },
  {
   "cell_type": "code",
   "execution_count": null,
   "metadata": {
    "ExecuteTime": {
     "end_time": "2024-01-13T16:06:35.116284Z",
     "start_time": "2024-01-13T16:06:34.966505Z"
    }
   },
   "outputs": [],
   "source": [
    "sp.expand((2*x+1)*(x-1)**2) # expand and simplify"
   ]
  },
  {
   "cell_type": "markdown",
   "metadata": {},
   "source": [
    "And if we want to factorise this cubic then use the **factor()** function"
   ]
  },
  {
   "cell_type": "code",
   "execution_count": null,
   "metadata": {
    "ExecuteTime": {
     "end_time": "2024-01-13T16:06:41.164367Z",
     "start_time": "2024-01-13T16:06:41.016804Z"
    }
   },
   "outputs": [],
   "source": [
    "sp.factor(2*x**3-3*x**2+1) # note that BIDMAS is used for hierarchy"
   ]
  },
  {
   "cell_type": "markdown",
   "metadata": {},
   "source": [
    "An alternative way to defining symbols is"
   ]
  },
  {
   "cell_type": "code",
   "execution_count": 21,
   "metadata": {
    "ExecuteTime": {
     "end_time": "2024-01-13T17:31:02.056026Z",
     "start_time": "2024-01-13T17:31:02.039344Z"
    }
   },
   "outputs": [
    {
     "data": {
      "text/plain": [
       "sympy.core.symbol.Symbol"
      ]
     },
     "execution_count": 21,
     "metadata": {},
     "output_type": "execute_result"
    }
   ],
   "source": [
    "a,b,c=sp.symbols('a,b,c') # note function\n",
    "type(a) # only takes one argument"
   ]
  },
  {
   "cell_type": "code",
   "execution_count": null,
   "metadata": {
    "ExecuteTime": {
     "end_time": "2024-01-13T16:34:01.049883Z",
     "start_time": "2024-01-13T16:34:00.904338Z"
    }
   },
   "outputs": [],
   "source": [
    "sp.expand((a+b+c)**2) # remember to include brackets"
   ]
  },
  {
   "cell_type": "code",
   "execution_count": null,
   "metadata": {
    "ExecuteTime": {
     "end_time": "2024-01-13T16:32:51.347216Z",
     "start_time": "2024-01-13T16:32:51.206026Z"
    }
   },
   "outputs": [],
   "source": [
    "a+2*b+6*c+4*a-9*c+8*b # will simplify and present"
   ]
  },
  {
   "cell_type": "code",
   "execution_count": null,
   "metadata": {
    "ExecuteTime": {
     "end_time": "2024-01-13T16:33:12.601319Z",
     "start_time": "2024-01-13T16:33:12.432187Z"
    }
   },
   "outputs": [],
   "source": [
    "sp.expand(sp.sin(a+b),  trig=True) # needs second param. to produce identity"
   ]
  },
  {
   "cell_type": "code",
   "execution_count": null,
   "metadata": {
    "ExecuteTime": {
     "end_time": "2024-01-13T16:34:06.338050Z",
     "start_time": "2024-01-13T16:34:06.155791Z"
    }
   },
   "outputs": [],
   "source": [
    "sp.expand(sp.tan(a+b), trig=True)"
   ]
  },
  {
   "cell_type": "markdown",
   "metadata": {},
   "source": [
    "The **simplify** function attempts to simplify an expression into a set of nicer looking smaller terms using various techniques."
   ]
  },
  {
   "cell_type": "code",
   "execution_count": null,
   "metadata": {
    "ExecuteTime": {
     "end_time": "2024-01-13T16:34:56.934400Z",
     "start_time": "2024-01-13T16:34:56.803238Z"
    }
   },
   "outputs": [],
   "source": [
    "(sp.expand(sp.sin(x-sp.pi/2)))\n",
    "#(sp.simplify((sp.sin(x-sp.pi/2))))\n",
    "\n",
    "# simplify can also be used"
   ]
  },
  {
   "cell_type": "code",
   "execution_count": null,
   "metadata": {
    "ExecuteTime": {
     "end_time": "2024-01-13T16:34:59.695458Z",
     "start_time": "2024-01-13T16:34:59.541374Z"
    }
   },
   "outputs": [],
   "source": [
    "sp.simplify(sp.cos(x)/sp.sin(x)/sp.cos(x))"
   ]
  },
  {
   "cell_type": "markdown",
   "metadata": {},
   "source": [
    "We can add assumptions to variables when we create them"
   ]
  },
  {
   "cell_type": "code",
   "execution_count": null,
   "metadata": {
    "ExecuteTime": {
     "end_time": "2024-01-13T16:35:48.260431Z",
     "start_time": "2024-01-13T16:35:48.241783Z"
    }
   },
   "outputs": [],
   "source": [
    "z=sp.Symbol('z',real=True)\n",
    "z.is_imaginary"
   ]
  },
  {
   "cell_type": "markdown",
   "metadata": {
    "collapsed": true
   },
   "source": [
    "The imaginary unit $i=\\sqrt{-1}$ denoted I in sympy"
   ]
  },
  {
   "cell_type": "code",
   "execution_count": null,
   "metadata": {
    "ExecuteTime": {
     "end_time": "2023-02-27T21:01:33.362290Z",
     "start_time": "2023-02-27T21:01:33.347330Z"
    }
   },
   "outputs": [],
   "source": [
    "z=sp.I #labourious but the essence of good coding\n",
    "z.is_imaginary"
   ]
  },
  {
   "cell_type": "code",
   "execution_count": 2,
   "metadata": {
    "ExecuteTime": {
     "end_time": "2024-01-13T17:24:25.365868Z",
     "start_time": "2024-01-13T17:24:25.317547Z"
    }
   },
   "outputs": [
    {
     "data": {
      "text/latex": [
       "$\\displaystyle 2 + i$"
      ],
      "text/plain": [
       "2 + I"
      ]
     },
     "execution_count": 2,
     "metadata": {},
     "output_type": "execute_result"
    }
   ],
   "source": [
    "2+sp.I"
   ]
  },
  {
   "cell_type": "code",
   "execution_count": null,
   "metadata": {
    "ExecuteTime": {
     "end_time": "2024-01-13T17:13:35.759650Z",
     "start_time": "2024-01-13T17:13:35.629123Z"
    }
   },
   "outputs": [],
   "source": [
    "sp.I**2"
   ]
  },
  {
   "cell_type": "markdown",
   "metadata": {},
   "source": [
    "Let's look at some root finding problems in SymPy. Consider $x^4 - 10x^3 + 21x^2 + 40x - 100 = 0.$"
   ]
  },
  {
   "cell_type": "code",
   "execution_count": 7,
   "metadata": {
    "ExecuteTime": {
     "end_time": "2024-01-13T17:24:57.285443Z",
     "start_time": "2024-01-13T17:24:57.262612Z"
    }
   },
   "outputs": [
    {
     "data": {
      "text/latex": [
       "$\\displaystyle \\left\\{-2, 2, 5\\right\\}$"
      ],
      "text/plain": [
       "{-2, 2, 5}"
      ]
     },
     "execution_count": 7,
     "metadata": {},
     "output_type": "execute_result"
    }
   ],
   "source": [
    "sp.solveset(x ** 4-10*x**3+21*x**2+40*x-100, x)"
   ]
  },
  {
   "cell_type": "code",
   "execution_count": 8,
   "metadata": {
    "ExecuteTime": {
     "end_time": "2024-01-13T17:24:58.704030Z",
     "start_time": "2024-01-13T17:24:58.685743Z"
    }
   },
   "outputs": [
    {
     "data": {
      "text/latex": [
       "$\\displaystyle \\left\\{- i, i\\right\\}$"
      ],
      "text/plain": [
       "{-I, I}"
      ]
     },
     "execution_count": 8,
     "metadata": {},
     "output_type": "execute_result"
    }
   ],
   "source": [
    "sp.solveset(x ** 2 +1, x)"
   ]
  },
  {
   "cell_type": "markdown",
   "metadata": {},
   "source": [
    "**Importing other symbols** Earlier we imported $\\pi$ using sp.pi; now we look at other letters from the greek alphabet"
   ]
  },
  {
   "cell_type": "code",
   "execution_count": 12,
   "metadata": {
    "ExecuteTime": {
     "end_time": "2024-01-13T17:26:43.556619Z",
     "start_time": "2024-01-13T17:26:43.542655Z"
    }
   },
   "outputs": [],
   "source": [
    "from sympy.abc import alpha, beta, gamma, xi, theta, epsilon"
   ]
  },
  {
   "cell_type": "code",
   "execution_count": 13,
   "metadata": {
    "ExecuteTime": {
     "end_time": "2024-01-13T17:26:45.525575Z",
     "start_time": "2024-01-13T17:26:45.504671Z"
    }
   },
   "outputs": [
    {
     "data": {
      "text/plain": [
       "(alpha, beta, gamma, xi, theta, epsilon)"
      ]
     },
     "execution_count": 13,
     "metadata": {},
     "output_type": "execute_result"
    }
   ],
   "source": [
    "alpha, beta, gamma, xi, theta, epsilon"
   ]
  },
  {
   "cell_type": "code",
   "execution_count": 27,
   "metadata": {
    "ExecuteTime": {
     "end_time": "2024-01-13T17:34:34.002236Z",
     "start_time": "2024-01-13T17:34:33.989271Z"
    }
   },
   "outputs": [
    {
     "data": {
      "text/plain": [
       "6"
      ]
     },
     "execution_count": 27,
     "metadata": {},
     "output_type": "execute_result"
    }
   ],
   "source": [
    "xi"
   ]
  },
  {
   "cell_type": "code",
   "execution_count": 29,
   "metadata": {
    "ExecuteTime": {
     "end_time": "2024-01-13T17:35:02.273639Z",
     "start_time": "2024-01-13T17:35:02.270648Z"
    }
   },
   "outputs": [],
   "source": [
    "alpha1, omega_2 = sp.symbols('alpha1 omega_2')"
   ]
  },
  {
   "cell_type": "code",
   "execution_count": 31,
   "metadata": {
    "ExecuteTime": {
     "end_time": "2024-01-13T17:38:14.849682Z",
     "start_time": "2024-01-13T17:38:14.838684Z"
    }
   },
   "outputs": [
    {
     "data": {
      "text/latex": [
       "$\\displaystyle \\alpha_{1} + \\omega_{2}^{2}$"
      ],
      "text/plain": [
       "alpha1 + omega_2**2"
      ]
     },
     "execution_count": 31,
     "metadata": {},
     "output_type": "execute_result"
    }
   ],
   "source": [
    "omega_2**2+alpha1"
   ]
  },
  {
   "cell_type": "markdown",
   "metadata": {},
   "source": [
    "**Creating multiple symbols**: We can create a list of many symbols indexed in a nice way e.g the list $\\{ x_i\\}_{0 \\leq i  \\leq 10}$ in full"
   ]
  },
  {
   "cell_type": "code",
   "execution_count": 36,
   "metadata": {
    "ExecuteTime": {
     "end_time": "2024-01-13T18:00:11.781325Z",
     "start_time": "2024-01-13T18:00:11.765337Z"
    }
   },
   "outputs": [
    {
     "data": {
      "text/plain": [
       "(x0, x1, x2, x3, x4, x5, x6, x7, x8, x9, x10)"
      ]
     },
     "execution_count": 36,
     "metadata": {},
     "output_type": "execute_result"
    }
   ],
   "source": [
    "x_i=sp.symbols(\"x0:11\")\n",
    "x_i"
   ]
  },
  {
   "cell_type": "markdown",
   "metadata": {},
   "source": [
    "Let's create an algebraic expression from this tuple"
   ]
  },
  {
   "cell_type": "code",
   "execution_count": 37,
   "metadata": {
    "ExecuteTime": {
     "end_time": "2024-01-13T18:00:15.578250Z",
     "start_time": "2024-01-13T18:00:15.566253Z"
    }
   },
   "outputs": [
    {
     "data": {
      "text/latex": [
       "$\\displaystyle x_{0}^{2} x_{1} x_{2} + 2 x_{0} x_{1} x_{2}$"
      ],
      "text/plain": [
       "x0**2*x1*x2 + 2*x0*x1*x2"
      ]
     },
     "execution_count": 37,
     "metadata": {},
     "output_type": "execute_result"
    }
   ],
   "source": [
    "expression1=x_i[0]**2*x_i[1]*x_i[2]+2*x_i[0]*x_i[1]*x_i[2]\n",
    "expression1"
   ]
  },
  {
   "cell_type": "code",
   "execution_count": 38,
   "metadata": {
    "ExecuteTime": {
     "end_time": "2024-01-13T18:00:21.095215Z",
     "start_time": "2024-01-13T18:00:21.072248Z"
    }
   },
   "outputs": [
    {
     "data": {
      "text/latex": [
       "$\\displaystyle x_{0} x_{1} x_{2} \\left(x_{0} + 2\\right)$"
      ],
      "text/plain": [
       "x0*x1*x2*(x0 + 2)"
      ]
     },
     "execution_count": 38,
     "metadata": {},
     "output_type": "execute_result"
    }
   ],
   "source": [
    "sp.factor(expression1)"
   ]
  },
  {
   "cell_type": "markdown",
   "metadata": {},
   "source": [
    "### Substitution"
   ]
  },
  {
   "cell_type": "markdown",
   "metadata": {},
   "source": [
    "One of the most basic operations to be performed on a mathematical expression is substitution. The subs() function in SymPy replaces all occurrences of first parameter with second. We can substitute all instances of a variable or expression in a mathematical expression with some other variable or expression or value, using the `sympy.subs()` method."
   ]
  },
  {
   "cell_type": "code",
   "execution_count": 41,
   "metadata": {
    "ExecuteTime": {
     "end_time": "2024-01-13T18:01:03.864445Z",
     "start_time": "2024-01-13T18:01:03.856439Z"
    }
   },
   "outputs": [
    {
     "data": {
      "text/latex": [
       "$\\displaystyle \\sin^{2}{\\left(x \\right)} + \\cos^{2}{\\left(x \\right)}$"
      ],
      "text/plain": [
       "sin(x)**2 + cos(x)**2"
      ]
     },
     "execution_count": 41,
     "metadata": {},
     "output_type": "execute_result"
    }
   ],
   "source": [
    "x, a =sp.symbols('x a')\n",
    "\n",
    "expr=sp.sin(x)*sp.sin(x)+sp.cos(x)*sp.cos(x) \n",
    "expr"
   ]
  },
  {
   "cell_type": "markdown",
   "metadata": {},
   "source": [
    "Now put $x=a$"
   ]
  },
  {
   "cell_type": "code",
   "execution_count": 42,
   "metadata": {
    "ExecuteTime": {
     "end_time": "2024-01-13T18:04:12.787417Z",
     "start_time": "2024-01-13T18:04:12.766322Z"
    }
   },
   "outputs": [
    {
     "data": {
      "text/latex": [
       "$\\displaystyle \\sin^{2}{\\left(a \\right)} + \\cos^{2}{\\left(a \\right)}$"
      ],
      "text/plain": [
       "sin(a)**2 + cos(a)**2"
      ]
     },
     "execution_count": 42,
     "metadata": {},
     "output_type": "execute_result"
    }
   ],
   "source": [
    "expr.subs(x,a)"
   ]
  },
  {
   "cell_type": "code",
   "execution_count": 43,
   "metadata": {
    "ExecuteTime": {
     "end_time": "2024-01-13T18:04:16.361572Z",
     "start_time": "2024-01-13T18:04:16.349304Z"
    }
   },
   "outputs": [
    {
     "data": {
      "text/latex": [
       "$\\displaystyle x^{2} + 3$"
      ],
      "text/plain": [
       "x**2 + 3"
      ]
     },
     "execution_count": 43,
     "metadata": {},
     "output_type": "execute_result"
    }
   ],
   "source": [
    "expr2=x**2+3\n",
    "expr2"
   ]
  },
  {
   "cell_type": "markdown",
   "metadata": {},
   "source": [
    "Now substitute expr2 in expr and call the resultant expr3"
   ]
  },
  {
   "cell_type": "code",
   "execution_count": 44,
   "metadata": {
    "ExecuteTime": {
     "end_time": "2024-01-13T18:04:22.655365Z",
     "start_time": "2024-01-13T18:04:22.639668Z"
    }
   },
   "outputs": [
    {
     "data": {
      "text/latex": [
       "$\\displaystyle \\sin^{2}{\\left(x^{2} + 3 \\right)} + \\cos^{2}{\\left(x^{2} + 3 \\right)}$"
      ],
      "text/plain": [
       "sin(x**2 + 3)**2 + cos(x**2 + 3)**2"
      ]
     },
     "execution_count": 44,
     "metadata": {},
     "output_type": "execute_result"
    }
   ],
   "source": [
    "expr3=expr.subs(x,expr2)\n",
    "expr3"
   ]
  },
  {
   "cell_type": "markdown",
   "metadata": {},
   "source": [
    "Now calculate expr2(6)"
   ]
  },
  {
   "cell_type": "code",
   "execution_count": 45,
   "metadata": {
    "ExecuteTime": {
     "end_time": "2024-01-13T18:05:00.307868Z",
     "start_time": "2024-01-13T18:05:00.292333Z"
    }
   },
   "outputs": [
    {
     "data": {
      "text/latex": [
       "$\\displaystyle 39$"
      ],
      "text/plain": [
       "39"
      ]
     },
     "execution_count": 45,
     "metadata": {},
     "output_type": "execute_result"
    }
   ],
   "source": [
    "expr2.subs(x,6)"
   ]
  },
  {
   "cell_type": "markdown",
   "metadata": {},
   "source": [
    "## Rational numbers\n",
    "There are three different numerical types in SymPy - **real, rational, integer**. "
   ]
  },
  {
   "cell_type": "code",
   "execution_count": 46,
   "metadata": {
    "ExecuteTime": {
     "end_time": "2024-01-13T18:13:28.590333Z",
     "start_time": "2024-01-13T18:13:28.577369Z"
    }
   },
   "outputs": [
    {
     "data": {
      "text/latex": [
       "$\\displaystyle \\frac{13}{6}$"
      ],
      "text/plain": [
       "13/6"
      ]
     },
     "execution_count": 46,
     "metadata": {},
     "output_type": "execute_result"
    }
   ],
   "source": [
    "r1=sp.Rational(2,3)\n",
    "r2=sp.Rational(3,4) # no sp required as sympy imported as *\n",
    "z=r1+2*r2\n",
    "z"
   ]
  },
  {
   "cell_type": "code",
   "execution_count": 47,
   "metadata": {
    "ExecuteTime": {
     "end_time": "2024-01-13T18:13:30.479175Z",
     "start_time": "2024-01-13T18:13:30.462237Z"
    }
   },
   "outputs": [
    {
     "data": {
      "text/latex": [
       "$\\displaystyle \\left(x_{0}^{2} x_{1} x_{2} + 2 x_{0} x_{1} x_{2}\\right)^{\\frac{13}{6}}$"
      ],
      "text/plain": [
       "(x0**2*x1*x2 + 2*x0*x1*x2)**(13/6)"
      ]
     },
     "execution_count": 47,
     "metadata": {},
     "output_type": "execute_result"
    }
   ],
   "source": [
    "x = sp.symbols(\"x\")\n",
    "expression1**z"
   ]
  },
  {
   "cell_type": "code",
   "execution_count": 48,
   "metadata": {
    "ExecuteTime": {
     "end_time": "2024-01-13T18:13:38.774080Z",
     "start_time": "2024-01-13T18:13:38.764107Z"
    }
   },
   "outputs": [],
   "source": [
    "K=sp.symbols('K')"
   ]
  },
  {
   "cell_type": "markdown",
   "metadata": {},
   "source": [
    "## Calculus Applications\n",
    "A powerful feature of CAS is its Calculus functionality like derivatives and integrals of algebraic expressions.\n",
    "\n",
    "**Differentiation** – Use the diff function. The first argument is the expression to take the derivative of, and the second is the symbol by which to take the derivative:"
   ]
  },
  {
   "cell_type": "code",
   "execution_count": 52,
   "metadata": {
    "ExecuteTime": {
     "end_time": "2024-01-13T18:15:27.182008Z",
     "start_time": "2024-01-13T18:15:27.159070Z"
    }
   },
   "outputs": [
    {
     "data": {
      "text/latex": [
       "$\\displaystyle 4 \\left(x + \\pi\\right)^{3}$"
      ],
      "text/plain": [
       "4*(x + pi)**3"
      ]
     },
     "execution_count": 52,
     "metadata": {},
     "output_type": "execute_result"
    }
   ],
   "source": [
    "x,y = sp.symbols('x,y') # define symbols\n",
    "y=(x+sp.pi)**4 # define function\n",
    "ydash=sp.diff(y,x)\n",
    "ydash"
   ]
  },
  {
   "cell_type": "code",
   "execution_count": 55,
   "metadata": {
    "ExecuteTime": {
     "end_time": "2024-01-13T18:21:07.369084Z",
     "start_time": "2024-01-13T18:21:07.349134Z"
    }
   },
   "outputs": [
    {
     "data": {
      "text/latex": [
       "$\\displaystyle 12 \\left(x + \\pi\\right)^{2}$"
      ],
      "text/plain": [
       "12*(x + pi)**2"
      ]
     },
     "execution_count": 55,
     "metadata": {},
     "output_type": "execute_result"
    }
   ],
   "source": [
    "sp.diff(y,x,x) # 2nd order derivative"
   ]
  },
  {
   "cell_type": "code",
   "execution_count": 56,
   "metadata": {
    "ExecuteTime": {
     "end_time": "2024-01-13T18:21:14.238051Z",
     "start_time": "2024-01-13T18:21:14.221061Z"
    }
   },
   "outputs": [
    {
     "data": {
      "text/latex": [
       "$\\displaystyle 24 \\left(x + \\pi\\right)$"
      ],
      "text/plain": [
       "24*(x + pi)"
      ]
     },
     "execution_count": 56,
     "metadata": {},
     "output_type": "execute_result"
    }
   ],
   "source": [
    "sp.diff(y,x,x,x,) # 3rd order derivative"
   ]
  },
  {
   "cell_type": "code",
   "execution_count": 57,
   "metadata": {
    "ExecuteTime": {
     "end_time": "2024-01-13T18:21:17.558007Z",
     "start_time": "2024-01-13T18:21:17.549007Z"
    }
   },
   "outputs": [
    {
     "data": {
      "text/latex": [
       "$\\displaystyle 12 \\left(x + \\pi\\right)^{2}$"
      ],
      "text/plain": [
       "12*(x + pi)**2"
      ]
     },
     "execution_count": 57,
     "metadata": {},
     "output_type": "execute_result"
    }
   ],
   "source": [
    "# or diff ydash\n",
    "sp.diff(ydash,x)"
   ]
  },
  {
   "cell_type": "markdown",
   "metadata": {},
   "source": [
    "Trig functions and transcendental functions can also be differentiated"
   ]
  },
  {
   "cell_type": "code",
   "execution_count": 58,
   "metadata": {
    "ExecuteTime": {
     "end_time": "2024-01-13T18:21:44.300964Z",
     "start_time": "2024-01-13T18:21:44.278031Z"
    }
   },
   "outputs": [
    {
     "data": {
      "text/latex": [
       "$\\displaystyle - e^{x} \\sin{\\left(x \\right)} + e^{x} \\cos{\\left(x \\right)}$"
      ],
      "text/plain": [
       "-exp(x)*sin(x) + exp(x)*cos(x)"
      ]
     },
     "execution_count": 58,
     "metadata": {},
     "output_type": "execute_result"
    }
   ],
   "source": [
    "y=sp.exp(x)*sp.cos(x)\n",
    "dy_dx=sp.diff(y,x)\n",
    "dy_dx"
   ]
  },
  {
   "cell_type": "code",
   "execution_count": 59,
   "metadata": {
    "ExecuteTime": {
     "end_time": "2024-01-13T18:21:45.506713Z",
     "start_time": "2024-01-13T18:21:45.492438Z"
    }
   },
   "outputs": [
    {
     "data": {
      "text/latex": [
       "$\\displaystyle 3^{x} \\log{\\left(3 \\right)}$"
      ],
      "text/plain": [
       "3**x*log(3)"
      ]
     },
     "execution_count": 59,
     "metadata": {},
     "output_type": "execute_result"
    }
   ],
   "source": [
    "y=3**x\n",
    "dy_dx=sp.diff(y,x)\n",
    "dy_dx"
   ]
  },
  {
   "cell_type": "code",
   "execution_count": 60,
   "metadata": {
    "ExecuteTime": {
     "end_time": "2024-01-13T18:21:47.125336Z",
     "start_time": "2024-01-13T18:21:47.097411Z"
    }
   },
   "outputs": [
    {
     "data": {
      "text/latex": [
       "$\\displaystyle \\frac{1.0 \\left(\\tan^{2}{\\left(x \\right)} + 1\\right)}{\\tan{\\left(x \\right)}}$"
      ],
      "text/plain": [
       "1.0*(tan(x)**2 + 1)/tan(x)"
      ]
     },
     "execution_count": 60,
     "metadata": {},
     "output_type": "execute_result"
    }
   ],
   "source": [
    "import numpy as np\n",
    "y=sp.log(sp.tan(x),np.e)\n",
    "sp.diff(y,x)"
   ]
  },
  {
   "cell_type": "markdown",
   "metadata": {},
   "source": [
    "multivariate functions $f(x,y,z)$ can also be differentiated to give $\\frac{\\partial{f}}{\\partial{x}}$, $\\frac{\\partial{f}}{\\partial{y}}$, $\\frac{\\partial{f}}{\\partial{z}}$ as well second order derivatives and mixed partial derivatives"
   ]
  },
  {
   "cell_type": "code",
   "execution_count": 62,
   "metadata": {
    "ExecuteTime": {
     "end_time": "2024-01-13T18:23:24.256955Z",
     "start_time": "2024-01-13T18:23:24.238009Z"
    }
   },
   "outputs": [],
   "source": [
    "x,y,z=sp.symbols('x y z')\n",
    "f=sp.sin(x*y)+sp.cos(y*z)+sp.exp(x*z)\n",
    "# in this cell 3 variables x,y,z and f(x,y,z) defined"
   ]
  },
  {
   "cell_type": "code",
   "execution_count": 63,
   "metadata": {
    "ExecuteTime": {
     "end_time": "2024-01-13T18:23:26.389942Z",
     "start_time": "2024-01-13T18:23:26.365010Z"
    }
   },
   "outputs": [
    {
     "data": {
      "text/latex": [
       "$\\displaystyle y \\cos{\\left(x y \\right)} + z e^{x z}$"
      ],
      "text/plain": [
       "y*cos(x*y) + z*exp(x*z)"
      ]
     },
     "execution_count": 63,
     "metadata": {},
     "output_type": "execute_result"
    }
   ],
   "source": [
    "sp.diff(f,x) # x derivative"
   ]
  },
  {
   "cell_type": "code",
   "execution_count": 64,
   "metadata": {
    "ExecuteTime": {
     "end_time": "2024-01-13T18:23:33.879519Z",
     "start_time": "2024-01-13T18:23:33.861539Z"
    }
   },
   "outputs": [
    {
     "data": {
      "text/latex": [
       "$\\displaystyle x \\cos{\\left(x y \\right)} - z \\sin{\\left(y z \\right)}$"
      ],
      "text/plain": [
       "x*cos(x*y) - z*sin(y*z)"
      ]
     },
     "execution_count": 64,
     "metadata": {},
     "output_type": "execute_result"
    }
   ],
   "source": [
    "sp.diff(f,y) # y derivative"
   ]
  },
  {
   "cell_type": "code",
   "execution_count": 65,
   "metadata": {
    "ExecuteTime": {
     "end_time": "2024-01-13T18:23:34.901964Z",
     "start_time": "2024-01-13T18:23:34.885010Z"
    }
   },
   "outputs": [
    {
     "data": {
      "text/latex": [
       "$\\displaystyle x e^{x z} - y \\sin{\\left(y z \\right)}$"
      ],
      "text/plain": [
       "x*exp(x*z) - y*sin(y*z)"
      ]
     },
     "execution_count": 65,
     "metadata": {},
     "output_type": "execute_result"
    }
   ],
   "source": [
    "sp.diff(f,z) # z derivative"
   ]
  },
  {
   "cell_type": "code",
   "execution_count": 67,
   "metadata": {
    "ExecuteTime": {
     "end_time": "2024-01-13T18:23:46.300918Z",
     "start_time": "2024-01-13T18:23:46.292969Z"
    }
   },
   "outputs": [
    {
     "data": {
      "text/latex": [
       "$\\displaystyle - x y \\sin{\\left(x y \\right)} + \\cos{\\left(x y \\right)}$"
      ],
      "text/plain": [
       "-x*y*sin(x*y) + cos(x*y)"
      ]
     },
     "execution_count": 67,
     "metadata": {},
     "output_type": "execute_result"
    }
   ],
   "source": [
    "sp.diff(f,x,y) # mixed partial derivative"
   ]
  },
  {
   "cell_type": "code",
   "execution_count": 68,
   "metadata": {
    "ExecuteTime": {
     "end_time": "2024-01-13T18:23:48.512177Z",
     "start_time": "2024-01-13T18:23:48.493251Z"
    }
   },
   "outputs": [
    {
     "data": {
      "text/latex": [
       "$\\displaystyle - x y \\sin{\\left(x y \\right)} + \\cos{\\left(x y \\right)}$"
      ],
      "text/plain": [
       "-x*y*sin(x*y) + cos(x*y)"
      ]
     },
     "execution_count": 68,
     "metadata": {},
     "output_type": "execute_result"
    }
   ],
   "source": [
    "sp.diff(f,y,x) # other mixed partial deriv"
   ]
  },
  {
   "cell_type": "markdown",
   "metadata": {},
   "source": [
    "**Integration**: Integration is done in a similar fashion using the function integrate(). To simplify$$\\int_{a}^{b} f(x) dx$$ \n",
    "we do integrate($f(x)$, $($x$,$a$, $b$)$)"
   ]
  },
  {
   "cell_type": "code",
   "execution_count": 69,
   "metadata": {
    "ExecuteTime": {
     "end_time": "2024-01-13T18:26:05.629867Z",
     "start_time": "2024-01-13T18:26:05.589974Z"
    }
   },
   "outputs": [
    {
     "data": {
      "text/latex": [
       "$\\displaystyle 1$"
      ],
      "text/plain": [
       "1"
      ]
     },
     "execution_count": 69,
     "metadata": {},
     "output_type": "execute_result"
    }
   ],
   "source": [
    "y=sp.sin(x)\n",
    "sp.integrate(y,(x,0,sp.pi/2))"
   ]
  },
  {
   "cell_type": "code",
   "execution_count": 70,
   "metadata": {
    "ExecuteTime": {
     "end_time": "2024-01-13T18:26:07.099937Z",
     "start_time": "2024-01-13T18:26:07.085974Z"
    }
   },
   "outputs": [
    {
     "data": {
      "text/latex": [
       "$\\displaystyle - \\cos{\\left(x \\right)}$"
      ],
      "text/plain": [
       "-cos(x)"
      ]
     },
     "execution_count": 70,
     "metadata": {},
     "output_type": "execute_result"
    }
   ],
   "source": [
    "sp.integrate(y,x) # indefinite integral"
   ]
  },
  {
   "cell_type": "code",
   "execution_count": 71,
   "metadata": {
    "ExecuteTime": {
     "end_time": "2024-01-13T18:26:10.617431Z",
     "start_time": "2024-01-13T18:26:10.388947Z"
    }
   },
   "outputs": [
    {
     "data": {
      "text/latex": [
       "$\\displaystyle \\sqrt{\\pi}$"
      ],
      "text/plain": [
       "sqrt(pi)"
      ]
     },
     "execution_count": 71,
     "metadata": {},
     "output_type": "execute_result"
    }
   ],
   "source": [
    "f=sp.exp(-x**2)\n",
    "sp.integrate(f,(x,-sp.oo,sp.oo)) # oo is the SymPy notation for infinity"
   ]
  },
  {
   "cell_type": "markdown",
   "metadata": {},
   "source": [
    "Double integration can also be performed e.g.\n",
    "\\begin{equation*}\n",
    "\\int_{-\\infty }^{\\infty }\\int_{-\\infty }^{\\infty }e^{-x^{2}-y^{2}}dxdy\n",
    "\\end{equation*}\n"
   ]
  },
  {
   "cell_type": "code",
   "execution_count": 72,
   "metadata": {
    "ExecuteTime": {
     "end_time": "2024-01-13T18:26:20.848208Z",
     "start_time": "2024-01-13T18:26:20.766086Z"
    }
   },
   "outputs": [
    {
     "data": {
      "text/latex": [
       "$\\displaystyle \\pi$"
      ],
      "text/plain": [
       "pi"
      ]
     },
     "execution_count": 72,
     "metadata": {},
     "output_type": "execute_result"
    }
   ],
   "source": [
    "x,y=sp.symbols('x y') # need to redefine variables\n",
    "F=sp.exp(-x**2-y**2)\n",
    "sp.integrate(F, (x, -sp.oo, sp.oo), (y, -sp.oo, sp.oo))"
   ]
  },
  {
   "cell_type": "code",
   "execution_count": 74,
   "metadata": {
    "ExecuteTime": {
     "end_time": "2024-01-13T18:27:38.118030Z",
     "start_time": "2024-01-13T18:27:38.027273Z"
    }
   },
   "outputs": [
    {
     "data": {
      "text/latex": [
       "$\\displaystyle 0.0192806680075547 \\sqrt{\\pi}$"
      ],
      "text/plain": [
       "0.0192806680075547*sqrt(pi)"
      ]
     },
     "execution_count": 74,
     "metadata": {},
     "output_type": "execute_result"
    }
   ],
   "source": [
    "import sympy as sp\n",
    "import math as math\n",
    "y=sp.exp(-(x**2))/math.sqrt(2*math.pi)\n",
    "sp.integrate(y,(x,-0.0428571,0.0428571))"
   ]
  },
  {
   "cell_type": "markdown",
   "metadata": {},
   "source": [
    "Here's a basic maths problem in surds. Simplify $\\sqrt{96} + \\sqrt{24} $"
   ]
  },
  {
   "cell_type": "code",
   "execution_count": 80,
   "metadata": {
    "ExecuteTime": {
     "end_time": "2024-01-13T18:31:10.425858Z",
     "start_time": "2024-01-13T18:31:10.408901Z"
    }
   },
   "outputs": [
    {
     "data": {
      "text/latex": [
       "$\\displaystyle 6 \\sqrt{6}$"
      ],
      "text/plain": [
       "6*sqrt(6)"
      ]
     },
     "execution_count": 80,
     "metadata": {},
     "output_type": "execute_result"
    }
   ],
   "source": [
    "sp.sqrt(96)+sp.sqrt(24)"
   ]
  },
  {
   "cell_type": "markdown",
   "metadata": {},
   "source": [
    "## Solvers"
   ]
  },
  {
   "cell_type": "markdown",
   "metadata": {},
   "source": [
    "Many equations can be solved using SymPy solvers. This includes algebraic equations and differential equations. The built-in function **solve()** is a general routine/module which performs numerous powerful and rather kool computations. \n",
    "\n",
    "Currently the following can be solved:\n",
    "\n",
    "* polynomial\n",
    "\n",
    "* transcendental (circular and exponential) \n",
    "\n",
    "* piecewise combinations of the above\n",
    "\n",
    "* linear systems \n",
    "\n",
    "* systems of polynomial equations\n",
    "\n",
    "* systems containing relational expressions, i.e. $f(x)>0$\n",
    "\n",
    "\n",
    "Start by importing solve, or use sp.solve"
   ]
  },
  {
   "cell_type": "code",
   "execution_count": 83,
   "metadata": {
    "ExecuteTime": {
     "end_time": "2024-01-13T18:33:18.940927Z",
     "start_time": "2024-01-13T18:33:18.924939Z"
    }
   },
   "outputs": [],
   "source": [
    "from sympy import solve"
   ]
  },
  {
   "cell_type": "code",
   "execution_count": 84,
   "metadata": {
    "ExecuteTime": {
     "end_time": "2024-01-13T18:33:19.530849Z",
     "start_time": "2024-01-13T18:33:19.516889Z"
    }
   },
   "outputs": [
    {
     "data": {
      "text/latex": [
       "$\\displaystyle x \\leq 3 \\wedge -\\infty < x$"
      ],
      "text/plain": [
       "(-oo < x) & (x <= 3)"
      ]
     },
     "execution_count": 84,
     "metadata": {},
     "output_type": "execute_result"
    }
   ],
   "source": [
    "sp.solve(x<=3) # here the sp. is not required"
   ]
  },
  {
   "cell_type": "markdown",
   "metadata": {},
   "source": [
    "The $ \\wedge$ means **and**. We can also write the solution in maths as $x \\in (-\\infty, 3]$. <br>\n",
    "$ \\vee$ means **joins**. "
   ]
  },
  {
   "cell_type": "code",
   "execution_count": 85,
   "metadata": {
    "ExecuteTime": {
     "end_time": "2024-01-13T18:33:21.315011Z",
     "start_time": "2024-01-13T18:33:21.291047Z"
    }
   },
   "outputs": [
    {
     "data": {
      "text/latex": [
       "$\\displaystyle \\left(-\\infty < x \\wedge x < -2\\right) \\vee \\left(-1 < x \\wedge x < \\infty\\right)$"
      ],
      "text/plain": [
       "((-oo < x) & (x < -2)) | ((-1 < x) & (x < oo))"
      ]
     },
     "execution_count": 85,
     "metadata": {},
     "output_type": "execute_result"
    }
   ],
   "source": [
    "sp.solve(x**2 + 3*x + 2 > 0)"
   ]
  },
  {
   "cell_type": "markdown",
   "metadata": {},
   "source": [
    "At school we would have expressed the above solution mathematically as $x<-2 \\cup x>-1$."
   ]
  },
  {
   "cell_type": "markdown",
   "metadata": {},
   "source": [
    "A slightly more exacting example involving absolute values $|x+2|\\leq 3$ can be solved a follows"
   ]
  },
  {
   "cell_type": "code",
   "execution_count": 86,
   "metadata": {
    "ExecuteTime": {
     "end_time": "2024-01-13T18:33:23.466387Z",
     "start_time": "2024-01-13T18:33:23.435438Z"
    }
   },
   "outputs": [
    {
     "data": {
      "text/latex": [
       "$\\displaystyle -5 \\leq x \\wedge x \\leq 1$"
      ],
      "text/plain": [
       "(-5 <= x) & (x <= 1)"
      ]
     },
     "execution_count": 86,
     "metadata": {},
     "output_type": "execute_result"
    }
   ],
   "source": [
    "sp.solve(sp.Abs(x+2)<=3)"
   ]
  },
  {
   "cell_type": "code",
   "execution_count": 87,
   "metadata": {
    "ExecuteTime": {
     "end_time": "2024-01-13T18:33:27.450327Z",
     "start_time": "2024-01-13T18:33:27.404888Z"
    }
   },
   "outputs": [
    {
     "data": {
      "text/latex": [
       "$\\displaystyle x \\leq - \\frac{3}{2} \\wedge -\\infty < x$"
      ],
      "text/plain": [
       "(-oo < x) & (x <= -3/2)"
      ]
     },
     "execution_count": 87,
     "metadata": {},
     "output_type": "execute_result"
    }
   ],
   "source": [
    "sp.solve(sp.Abs(x+2)<=sp.Abs(x+1))"
   ]
  },
  {
   "cell_type": "code",
   "execution_count": 88,
   "metadata": {
    "ExecuteTime": {
     "end_time": "2024-01-13T18:33:28.116412Z",
     "start_time": "2024-01-13T18:33:28.099892Z"
    }
   },
   "outputs": [
    {
     "data": {
      "text/plain": [
       "[]"
      ]
     },
     "execution_count": 88,
     "metadata": {},
     "output_type": "execute_result"
    }
   ],
   "source": [
    "sp.solve(sp.Abs(2*x-1)==3*sp.Abs(x+1))"
   ]
  },
  {
   "cell_type": "code",
   "execution_count": 89,
   "metadata": {
    "ExecuteTime": {
     "end_time": "2024-01-13T18:33:30.157109Z",
     "start_time": "2024-01-13T18:33:30.092256Z"
    }
   },
   "outputs": [
    {
     "data": {
      "text/latex": [
       "$\\displaystyle \\left\\{2 n \\pi\\; \\middle|\\; n \\in \\mathbb{Z}\\right\\}$"
      ],
      "text/plain": [
       "ImageSet(Lambda(_n, 2*_n*pi), Integers)"
      ]
     },
     "execution_count": 89,
     "metadata": {},
     "output_type": "execute_result"
    }
   ],
   "source": [
    "sp.solveset(sp.cos(x)-1,x)"
   ]
  },
  {
   "cell_type": "markdown",
   "metadata": {},
   "source": [
    "### Root finding"
   ]
  },
  {
   "cell_type": "markdown",
   "metadata": {},
   "source": [
    "Let's start by looking at some root finding problems in SymPy, i.e. algebraic functions. <br> As a first example consider $x^4 - 10x^3 + 21x^2 + 40x - 100 = 0.$"
   ]
  },
  {
   "cell_type": "code",
   "execution_count": 90,
   "metadata": {
    "ExecuteTime": {
     "end_time": "2024-01-13T18:33:51.203411Z",
     "start_time": "2024-01-13T18:33:51.182449Z"
    }
   },
   "outputs": [
    {
     "data": {
      "text/latex": [
       "$\\displaystyle \\left\\{-2, 2, 5\\right\\}$"
      ],
      "text/plain": [
       "{-2, 2, 5}"
      ]
     },
     "execution_count": 90,
     "metadata": {},
     "output_type": "execute_result"
    }
   ],
   "source": [
    "sp.solveset(x ** 4 -10*x**3+21*x**2+40*x-100, x)"
   ]
  },
  {
   "cell_type": "markdown",
   "metadata": {},
   "source": [
    "Next the classic starting point for studying complex numbers, solving $x^2+1=0$."
   ]
  },
  {
   "cell_type": "code",
   "execution_count": 91,
   "metadata": {
    "ExecuteTime": {
     "end_time": "2024-01-13T18:33:53.438805Z",
     "start_time": "2024-01-13T18:33:53.413864Z"
    }
   },
   "outputs": [
    {
     "data": {
      "text/latex": [
       "$\\displaystyle \\left\\{- i, i\\right\\}$"
      ],
      "text/plain": [
       "{-I, I}"
      ]
     },
     "execution_count": 91,
     "metadata": {},
     "output_type": "execute_result"
    }
   ],
   "source": [
    "sp.solveset(x ** 2 +1, x)"
   ]
  },
  {
   "cell_type": "markdown",
   "metadata": {},
   "source": [
    "We can create a new data type by assigning the solutions to a variable. Consider the problem above"
   ]
  },
  {
   "cell_type": "code",
   "execution_count": 92,
   "metadata": {
    "ExecuteTime": {
     "end_time": "2024-01-13T18:33:55.662146Z",
     "start_time": "2024-01-13T18:33:55.647186Z"
    }
   },
   "outputs": [
    {
     "name": "stdout",
     "output_type": "stream",
     "text": [
      "<class 'sympy.sets.sets.FiniteSet'>\n"
     ]
    },
    {
     "data": {
      "text/latex": [
       "$\\displaystyle \\left\\{- i, i\\right\\}$"
      ],
      "text/plain": [
       "{-I, I}"
      ]
     },
     "execution_count": 92,
     "metadata": {},
     "output_type": "execute_result"
    }
   ],
   "source": [
    "roots=sp.solveset(x ** 2 +1, x)\n",
    "print(type(roots))\n",
    "roots"
   ]
  },
  {
   "cell_type": "code",
   "execution_count": null,
   "metadata": {
    "ExecuteTime": {
     "end_time": "2023-02-27T21:01:43.469741Z",
     "start_time": "2023-02-27T21:01:43.251325Z"
    }
   },
   "outputs": [],
   "source": [
    "import sympy as sp\n",
    "sp.solveset(x ** 3 -57.004*x**2+173.534*x-134.24-x, x)"
   ]
  },
  {
   "cell_type": "markdown",
   "metadata": {},
   "source": [
    "## Rational numbers\n",
    "There are three different numerical types in SymPy - **real, rational, integer**. "
   ]
  },
  {
   "cell_type": "code",
   "execution_count": 93,
   "metadata": {
    "ExecuteTime": {
     "end_time": "2024-01-13T18:34:11.332830Z",
     "start_time": "2024-01-13T18:34:11.325849Z"
    }
   },
   "outputs": [
    {
     "data": {
      "text/latex": [
       "$\\displaystyle \\frac{17}{12}$"
      ],
      "text/plain": [
       "17/12"
      ]
     },
     "execution_count": 93,
     "metadata": {},
     "output_type": "execute_result"
    }
   ],
   "source": [
    "r1=sp.Rational(2,3)\n",
    "r2=sp.Rational(3,4) # no sp required as sympy imported as *\n",
    "r1+r2"
   ]
  },
  {
   "cell_type": "code",
   "execution_count": 94,
   "metadata": {
    "ExecuteTime": {
     "end_time": "2024-01-13T18:34:12.312784Z",
     "start_time": "2024-01-13T18:34:12.295806Z"
    }
   },
   "outputs": [
    {
     "data": {
      "text/plain": [
       "[-3, 10]"
      ]
     },
     "execution_count": 94,
     "metadata": {},
     "output_type": "execute_result"
    }
   ],
   "source": [
    "from sympy.solvers import solve\n",
    "from sympy import Symbol\n",
    "x = Symbol('x')\n",
    "solve(x**2 - 7*x-30, x)"
   ]
  },
  {
   "cell_type": "markdown",
   "metadata": {},
   "source": [
    "## Limits\n",
    "SymPy can manipulate limits \n",
    "$$\\lim_{x\\to 3}x^2+2x+2$$"
   ]
  },
  {
   "cell_type": "code",
   "execution_count": 95,
   "metadata": {
    "ExecuteTime": {
     "end_time": "2024-01-13T18:34:17.739449Z",
     "start_time": "2024-01-13T18:34:17.723464Z"
    }
   },
   "outputs": [
    {
     "data": {
      "text/latex": [
       "$\\displaystyle 17$"
      ],
      "text/plain": [
       "17"
      ]
     },
     "execution_count": 95,
     "metadata": {},
     "output_type": "execute_result"
    }
   ],
   "source": [
    "sp.limit(x**2+2*x+2, x, 3)"
   ]
  },
  {
   "cell_type": "markdown",
   "metadata": {},
   "source": [
    "Does it handle indeterminate forms? Consider $$\\lim_{x\\to 3}\\frac{x^2-9}{x-3}$$"
   ]
  },
  {
   "cell_type": "code",
   "execution_count": 96,
   "metadata": {
    "ExecuteTime": {
     "end_time": "2024-01-13T18:34:21.989982Z",
     "start_time": "2024-01-13T18:34:21.957072Z"
    }
   },
   "outputs": [
    {
     "data": {
      "text/latex": [
       "$\\displaystyle 6$"
      ],
      "text/plain": [
       "6"
      ]
     },
     "execution_count": 96,
     "metadata": {},
     "output_type": "execute_result"
    }
   ],
   "source": [
    "sp.limit((x**2-9)/(x-3), x, 3)"
   ]
  },
  {
   "cell_type": "markdown",
   "metadata": {},
   "source": [
    "Here's the classic problem $$\\lim_{x\\to 0}\\frac{\\sin{x}}{x}\\longrightarrow 1$$"
   ]
  },
  {
   "cell_type": "code",
   "execution_count": 97,
   "metadata": {
    "ExecuteTime": {
     "end_time": "2024-01-13T18:34:24.549715Z",
     "start_time": "2024-01-13T18:34:24.543734Z"
    }
   },
   "outputs": [
    {
     "data": {
      "text/latex": [
       "$\\displaystyle 1$"
      ],
      "text/plain": [
       "1"
      ]
     },
     "execution_count": 97,
     "metadata": {},
     "output_type": "execute_result"
    }
   ],
   "source": [
    "sp.limit((sp.sin(x))/x, x, 0)"
   ]
  },
  {
   "cell_type": "markdown",
   "metadata": {},
   "source": [
    "Having defined $\\infty$ in SymPy, we use in an earlier application of limits to check the value of\n",
    "$$\\lim_{x\\to \\infty}{\\ln{x}}{e^{-3x}}\\longrightarrow 0$$. <br> We know this from the behaviour of the numerator and denominator as well as using L'Hopital's rule. "
   ]
  },
  {
   "cell_type": "code",
   "execution_count": 98,
   "metadata": {
    "ExecuteTime": {
     "end_time": "2024-01-13T18:36:09.121122Z",
     "start_time": "2024-01-13T18:36:09.027342Z"
    }
   },
   "outputs": [
    {
     "data": {
      "text/latex": [
       "$\\displaystyle 0$"
      ],
      "text/plain": [
       "0"
      ]
     },
     "execution_count": 98,
     "metadata": {},
     "output_type": "execute_result"
    }
   ],
   "source": [
    "sp.limit((sp.log(x))*sp.exp(-3*x), x, sp.oo)"
   ]
  }
 ],
 "metadata": {
  "kernelspec": {
   "display_name": "Python 3 (ipykernel)",
   "language": "python",
   "name": "python3"
  },
  "language_info": {
   "codemirror_mode": {
    "name": "ipython",
    "version": 3
   },
   "file_extension": ".py",
   "mimetype": "text/x-python",
   "name": "python",
   "nbconvert_exporter": "python",
   "pygments_lexer": "ipython3",
   "version": "3.8.8"
  },
  "latex_envs": {
   "LaTeX_envs_menu_present": true,
   "autoclose": false,
   "autocomplete": true,
   "bibliofile": "biblio.bib",
   "cite_by": "apalike",
   "current_citInitial": 1,
   "eqLabelWithNumbers": true,
   "eqNumInitial": 1,
   "hotkeys": {
    "equation": "Ctrl-E",
    "itemize": "Ctrl-I"
   },
   "labels_anchors": false,
   "latex_user_defs": false,
   "report_style_numbering": false,
   "user_envs_cfg": false
  },
  "nbTranslate": {
   "displayLangs": [
    "*"
   ],
   "hotkey": "alt-t",
   "langInMainMenu": true,
   "sourceLang": "en",
   "targetLang": "fr",
   "useGoogleTranslate": true
  },
  "toc": {
   "base_numbering": 1,
   "nav_menu": {},
   "number_sections": true,
   "sideBar": true,
   "skip_h1_title": false,
   "title_cell": "Table of Contents",
   "title_sidebar": "Contents",
   "toc_cell": false,
   "toc_position": {
    "height": "calc(100% - 180px)",
    "left": "10px",
    "top": "150px",
    "width": "256px"
   },
   "toc_section_display": true,
   "toc_window_display": false
  },
  "varInspector": {
   "cols": {
    "lenName": 16,
    "lenType": 16,
    "lenVar": 40
   },
   "kernels_config": {
    "python": {
     "delete_cmd_postfix": "",
     "delete_cmd_prefix": "del ",
     "library": "var_list.py",
     "varRefreshCmd": "print(var_dic_list())"
    },
    "r": {
     "delete_cmd_postfix": ") ",
     "delete_cmd_prefix": "rm(",
     "library": "var_list.r",
     "varRefreshCmd": "cat(var_dic_list()) "
    }
   },
   "types_to_exclude": [
    "module",
    "function",
    "builtin_function_or_method",
    "instance",
    "_Feature"
   ],
   "window_display": false
  }
 },
 "nbformat": 4,
 "nbformat_minor": 2
}
