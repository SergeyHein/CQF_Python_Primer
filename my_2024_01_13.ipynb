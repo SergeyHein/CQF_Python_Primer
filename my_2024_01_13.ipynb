{
 "cells": [
  {
   "cell_type": "markdown",
   "metadata": {},
   "source": [
    "https://www.overleaf.com/project"
   ]
  },
  {
   "cell_type": "markdown",
   "metadata": {},
   "source": [
    "**Shortcuts** Jupyter has plenty of shortcuts to save time:\n",
    "\n",
    "<mark>Shift + Enter</mark>: Run current cell and take cursor to the next one\n",
    "\n",
    "<mark>Ctrl + Enter</mark>: Run current cell\n",
    "\n",
    "<mark>Alt + Enter</mark>: Run current cell and insert new cell below\n",
    "\n",
    "<mark>Esc+M</mark>: Convert current cell to markdown\n",
    "\n",
    "<mark>Esc+Y</mark>: Convert current cell to code\n",
    "\n",
    "<mark>Esc + A</mark>: Insert new cell above current cell\n",
    "\n",
    "<mark>Esc + B</mark>: Insert new cell below current cell\n",
    "\n",
    "<mark>Esc + H</mark>: Show shortcuts menu"
   ]
  },
  {
   "cell_type": "code",
   "execution_count": null,
   "metadata": {},
   "outputs": [],
   "source": [
    "import math as math\n",
    "import numpy as np"
   ]
  },
  {
   "cell_type": "code",
   "execution_count": null,
   "metadata": {},
   "outputs": [],
   "source": [
    "lsmagic"
   ]
  },
  {
   "cell_type": "code",
   "execution_count": null,
   "metadata": {},
   "outputs": [],
   "source": [
    "a= {\"line\":{\"automagic\":\"AutoMagics\",\"autocall\":\"AutoMagics\",\"alias_magic\":\"BasicMagics\",\"lsmagic\":\"BasicMagics\",\"magic\":\"BasicMagics\",\"page\":\"BasicMagics\",\"pprint\":\"BasicMagics\",\"colors\":\"BasicMagics\",\"xmode\":\"BasicMagics\",\"quickref\":\"BasicMagics\",\"doctest_mode\":\"BasicMagics\",\"gui\":\"BasicMagics\",\"precision\":\"BasicMagics\",\"notebook\":\"BasicMagics\",\"save\":\"CodeMagics\",\"pastebin\":\"CodeMagics\",\"loadpy\":\"CodeMagics\",\"load\":\"CodeMagics\",\"edit\":\"KernelMagics\",\"config\":\"ConfigMagics\",\"prun\":\"ExecutionMagics\",\"pdb\":\"ExecutionMagics\",\"debug\":\"ExecutionMagics\",\"tb\":\"ExecutionMagics\",\"run\":\"ExecutionMagics\",\"timeit\":\"ExecutionMagics\",\"time\":\"ExecutionMagics\",\"macro\":\"ExecutionMagics\",\"code_wrap\":\"ExecutionMagics\",\"load_ext\":\"ExtensionMagics\",\"unload_ext\":\"ExtensionMagics\",\"reload_ext\":\"ExtensionMagics\",\"history\":\"HistoryMagics\",\"recall\":\"HistoryMagics\",\"rerun\":\"HistoryMagics\",\"logstart\":\"LoggingMagics\",\"logstop\":\"LoggingMagics\",\"logoff\":\"LoggingMagics\",\"logon\":\"LoggingMagics\",\"logstate\":\"LoggingMagics\",\"pinfo\":\"NamespaceMagics\",\"pinfo2\":\"NamespaceMagics\",\"pdef\":\"NamespaceMagics\",\"pdoc\":\"NamespaceMagics\",\"psource\":\"NamespaceMagics\",\"pfile\":\"NamespaceMagics\",\"psearch\":\"NamespaceMagics\",\"who_ls\":\"NamespaceMagics\",\"who\":\"NamespaceMagics\",\"whos\":\"NamespaceMagics\",\"reset\":\"NamespaceMagics\",\"reset_selective\":\"NamespaceMagics\",\"xdel\":\"NamespaceMagics\",\"alias\":\"OSMagics\",\"unalias\":\"OSMagics\",\"rehashx\":\"OSMagics\",\"pwd\":\"OSMagics\",\"cd\":\"OSMagics\",\"env\":\"OSMagics\",\"set_env\":\"OSMagics\",\"pushd\":\"OSMagics\",\"popd\":\"OSMagics\",\"dirs\":\"OSMagics\",\"dhist\":\"OSMagics\",\"sc\":\"OSMagics\",\"sx\":\"OSMagics\",\"system\":\"OSMagics\",\"bookmark\":\"OSMagics\",\"pycat\":\"OSMagics\",\"pip\":\"PackagingMagics\",\"conda\":\"PackagingMagics\",\"mamba\":\"PackagingMagics\",\"micromamba\":\"PackagingMagics\",\"matplotlib\":\"PylabMagics\",\"pylab\":\"PylabMagics\",\"killbgscripts\":\"ScriptMagics\",\"autoawait\":\"AsyncMagics\",\"ed\":\"Other\",\"hist\":\"Other\",\"rep\":\"Other\",\"clear\":\"KernelMagics\",\"cls\":\"KernelMagics\",\"less\":\"KernelMagics\",\"more\":\"KernelMagics\",\"connect_info\":\"KernelMagics\",\"qtconsole\":\"KernelMagics\",\"autosave\":\"KernelMagics\",\"ls\":\"Other\",\"ddir\":\"Other\",\"ldir\":\"Other\",\"mkdir\":\"Other\",\"rmdir\":\"Other\",\"echo\":\"Other\",\"ren\":\"Other\",\"copy\":\"Other\",\"store\":\"StoreMagics\"},\"cell\":{\"js\":\"DisplayMagics\",\"javascript\":\"DisplayMagics\",\"latex\":\"DisplayMagics\",\"svg\":\"DisplayMagics\",\"html\":\"DisplayMagics\",\"markdown\":\"DisplayMagics\",\"prun\":\"ExecutionMagics\",\"debug\":\"ExecutionMagics\",\"timeit\":\"ExecutionMagics\",\"time\":\"ExecutionMagics\",\"capture\":\"ExecutionMagics\",\"code_wrap\":\"ExecutionMagics\",\"sx\":\"OSMagics\",\"system\":\"OSMagics\",\"!\":\"OSMagics\",\"writefile\":\"OSMagics\",\"script\":\"ScriptMagics\",\"sh\":\"Other\",\"bash\":\"Other\",\"perl\":\"Other\",\"ruby\":\"Other\",\"python\":\"Other\",\"python2\":\"Other\",\"python3\":\"Other\",\"pypy\":\"Other\",\"cmd\":\"Other\",\"SVG\":\"Other\",\"HTML\":\"Other\",\"file\":\"Other\"}}\n"
   ]
  },
  {
   "cell_type": "code",
   "execution_count": null,
   "metadata": {},
   "outputs": [],
   "source": [
    "whos"
   ]
  },
  {
   "cell_type": "code",
   "execution_count": null,
   "metadata": {},
   "outputs": [],
   "source": [
    "a.keys()"
   ]
  },
  {
   "cell_type": "code",
   "execution_count": null,
   "metadata": {},
   "outputs": [],
   "source": []
  },
  {
   "cell_type": "code",
   "execution_count": null,
   "metadata": {},
   "outputs": [],
   "source": [
    "a[\"line\"]"
   ]
  },
  {
   "cell_type": "code",
   "execution_count": null,
   "metadata": {},
   "outputs": [],
   "source": [
    "a[\"cell\"]"
   ]
  },
  {
   "cell_type": "markdown",
   "metadata": {},
   "source": [
    "live time stamp 48:00\n",
    "https://learn.cqf.com/courses/184"
   ]
  }
 ],
 "metadata": {
  "author": "mes",
  "kernelspec": {
   "display_name": "Python 3",
   "language": "python",
   "name": "python3"
  },
  "language_info": {
   "codemirror_mode": {
    "name": "ipython",
    "version": 3
   },
   "file_extension": ".py",
   "mimetype": "text/x-python",
   "name": "python",
   "nbconvert_exporter": "python",
   "pygments_lexer": "ipython3",
   "version": "3.11.5"
  },
  "latex_envs": {
   "LaTeX_envs_menu_present": true,
   "autoclose": false,
   "autocomplete": true,
   "bibliofile": "biblio.bib",
   "cite_by": "apalike",
   "current_citInitial": 1,
   "eqLabelWithNumbers": true,
   "eqNumInitial": 1,
   "hotkeys": {
    "equation": "Ctrl-E",
    "itemize": "Ctrl-I"
   },
   "labels_anchors": false,
   "latex_user_defs": false,
   "report_style_numbering": false,
   "user_envs_cfg": false
  },
  "nbTranslate": {
   "displayLangs": [
    "*"
   ],
   "hotkey": "alt-t",
   "langInMainMenu": true,
   "sourceLang": "en",
   "targetLang": "fr",
   "useGoogleTranslate": true
  },
  "toc": {
   "base_numbering": 1,
   "nav_menu": {},
   "number_sections": true,
   "sideBar": true,
   "skip_h1_title": false,
   "title_cell": "Table of Contents",
   "title_sidebar": "Contents",
   "toc_cell": false,
   "toc_position": {
    "height": "calc(100% - 180px)",
    "left": "10px",
    "top": "150px",
    "width": "255.98px"
   },
   "toc_section_display": true,
   "toc_window_display": true
  },
  "varInspector": {
   "cols": {
    "lenName": 16,
    "lenType": 16,
    "lenVar": 40
   },
   "kernels_config": {
    "python": {
     "delete_cmd_postfix": "",
     "delete_cmd_prefix": "del ",
     "library": "var_list.py",
     "varRefreshCmd": "print(var_dic_list())"
    },
    "r": {
     "delete_cmd_postfix": ") ",
     "delete_cmd_prefix": "rm(",
     "library": "var_list.r",
     "varRefreshCmd": "cat(var_dic_list()) "
    }
   },
   "types_to_exclude": [
    "module",
    "function",
    "builtin_function_or_method",
    "instance",
    "_Feature"
   ],
   "window_display": false
  }
 },
 "nbformat": 4,
 "nbformat_minor": 2
}
